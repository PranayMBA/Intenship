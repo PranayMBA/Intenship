{
 "cells": [
  {
   "cell_type": "markdown",
   "id": "8c2f66a9",
   "metadata": {},
   "source": [
    "## 12. number is prime or not"
   ]
  },
  {
   "cell_type": "code",
   "execution_count": null,
   "id": "be5fc1f7",
   "metadata": {},
   "outputs": [],
   "source": [
    "num = int(input(\"Enter any number : \"))\n",
    "if num > 1:\n",
    "    for i in range(2, num):\n",
    "        if (num % i) == 0:\n",
    "            print(num, \"is NOT a prime number\")\n",
    "            break\n",
    "    else:\n",
    "        print(num, \"is a PRIME number\")\n",
    "elif num == 0 or 1:\n",
    "    print(num, \"is a neither prime NOR composite number\")\n",
    "else:\n",
    "    print(num, \"is NOT a prime number it is a COMPOSITE number\")"
   ]
  },
  {
   "cell_type": "markdown",
   "id": "1a4b183e",
   "metadata": {},
   "source": [
    "## 11. Factorial of any number"
   ]
  },
  {
   "cell_type": "code",
   "execution_count": null,
   "id": "49f2eba1",
   "metadata": {},
   "outputs": [],
   "source": [
    "n=int(input(\"Enter the Number:\"))\n",
    "fact=1\n",
    "while(n>=2):\n",
    "    fact=fact*n\n",
    "    n-=1\n",
    "    \n",
    "print(\"Factorial:\",fact)"
   ]
  },
  {
   "cell_type": "markdown",
   "id": "3a182901",
   "metadata": {},
   "source": [
    "## 13. Whether a given string is palindrome or not."
   ]
  },
  {
   "cell_type": "code",
   "execution_count": null,
   "id": "0595a5d0",
   "metadata": {},
   "outputs": [],
   "source": [
    "def isPalindrome(s):\n",
    "    return s == s[::-1]\n",
    " \n",
    " \n",
    "s = \"shivajihighschool\"\n",
    "ans = isPalindrome(s)\n",
    " \n",
    "if ans:\n",
    "    print(\"Yes\")\n",
    "else:\n",
    "    print(\"No\")"
   ]
  },
  {
   "cell_type": "code",
   "execution_count": null,
   "id": "dc8e6ced",
   "metadata": {},
   "outputs": [],
   "source": []
  },
  {
   "cell_type": "code",
   "execution_count": null,
   "id": "5fa44cd4",
   "metadata": {},
   "outputs": [],
   "source": []
  },
  {
   "cell_type": "code",
   "execution_count": null,
   "id": "fcfd1db9",
   "metadata": {},
   "outputs": [],
   "source": []
  }
 ],
 "metadata": {
  "kernelspec": {
   "display_name": "Python 3",
   "language": "python",
   "name": "python3"
  },
  "language_info": {
   "codemirror_mode": {
    "name": "ipython",
    "version": 3
   },
   "file_extension": ".py",
   "mimetype": "text/x-python",
   "name": "python",
   "nbconvert_exporter": "python",
   "pygments_lexer": "ipython3",
   "version": "3.8.8"
  }
 },
 "nbformat": 4,
 "nbformat_minor": 5
}
