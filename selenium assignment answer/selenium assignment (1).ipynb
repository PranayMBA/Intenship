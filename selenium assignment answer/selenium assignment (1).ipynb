{
 "cells": [
  {
   "cell_type": "markdown",
   "id": "ff7ed79b",
   "metadata": {},
   "source": [
    "## Class Practise & Selenium Assignment"
   ]
  },
  {
   "cell_type": "code",
   "execution_count": 1,
   "id": "16362c2c",
   "metadata": {},
   "outputs": [
    {
     "name": "stdout",
     "output_type": "stream",
     "text": [
      "Collecting selenium\n",
      "  Downloading selenium-4.1.0-py3-none-any.whl (958 kB)\n",
      "Requirement already satisfied: urllib3[secure]~=1.26 in c:\\programdata\\anaconda3\\lib\\site-packages (from selenium) (1.26.4)\n",
      "Collecting trio-websocket~=0.9\n",
      "  Downloading trio_websocket-0.9.2-py3-none-any.whl (16 kB)\n",
      "Collecting trio~=0.17\n",
      "  Downloading trio-0.19.0-py3-none-any.whl (356 kB)\n",
      "Requirement already satisfied: async-generator>=1.9 in c:\\programdata\\anaconda3\\lib\\site-packages (from trio~=0.17->selenium) (1.10)\n",
      "Collecting outcome\n",
      "  Downloading outcome-1.1.0-py2.py3-none-any.whl (9.7 kB)\n",
      "Requirement already satisfied: sortedcontainers in c:\\programdata\\anaconda3\\lib\\site-packages (from trio~=0.17->selenium) (2.3.0)\n",
      "Requirement already satisfied: attrs>=19.2.0 in c:\\programdata\\anaconda3\\lib\\site-packages (from trio~=0.17->selenium) (20.3.0)\n",
      "Requirement already satisfied: sniffio in c:\\programdata\\anaconda3\\lib\\site-packages (from trio~=0.17->selenium) (1.2.0)\n",
      "Requirement already satisfied: idna in c:\\programdata\\anaconda3\\lib\\site-packages (from trio~=0.17->selenium) (2.10)\n",
      "Requirement already satisfied: cffi>=1.14 in c:\\programdata\\anaconda3\\lib\\site-packages (from trio~=0.17->selenium) (1.14.5)\n",
      "Requirement already satisfied: pycparser in c:\\programdata\\anaconda3\\lib\\site-packages (from cffi>=1.14->trio~=0.17->selenium) (2.20)\n",
      "Collecting wsproto>=0.14\n",
      "  Downloading wsproto-1.0.0-py3-none-any.whl (24 kB)\n",
      "Requirement already satisfied: pyOpenSSL>=0.14 in c:\\programdata\\anaconda3\\lib\\site-packages (from urllib3[secure]~=1.26->selenium) (20.0.1)\n",
      "Requirement already satisfied: cryptography>=1.3.4 in c:\\programdata\\anaconda3\\lib\\site-packages (from urllib3[secure]~=1.26->selenium) (3.4.7)\n",
      "Requirement already satisfied: certifi in c:\\programdata\\anaconda3\\lib\\site-packages (from urllib3[secure]~=1.26->selenium) (2020.12.5)\n",
      "Requirement already satisfied: six>=1.5.2 in c:\\programdata\\anaconda3\\lib\\site-packages (from pyOpenSSL>=0.14->urllib3[secure]~=1.26->selenium) (1.15.0)\n",
      "Collecting h11<1,>=0.9.0\n",
      "  Downloading h11-0.12.0-py3-none-any.whl (54 kB)\n",
      "Installing collected packages: outcome, h11, wsproto, trio, trio-websocket, selenium\n",
      "Successfully installed h11-0.12.0 outcome-1.1.0 selenium-4.1.0 trio-0.19.0 trio-websocket-0.9.2 wsproto-1.0.0\n"
     ]
    }
   ],
   "source": [
    "!pip install selenium"
   ]
  },
  {
   "cell_type": "markdown",
   "id": "b2445c8c",
   "metadata": {},
   "source": [
    "### Requird Libraries"
   ]
  },
  {
   "cell_type": "code",
   "execution_count": 2,
   "id": "21496aed",
   "metadata": {},
   "outputs": [],
   "source": [
    "import selenium\n",
    "from selenium import webdriver\n",
    "import pandas as pd\n",
    "import warnings\n",
    "warnings.filterwarnings(\"ignore\")"
   ]
  },
  {
   "cell_type": "markdown",
   "id": "140e0013",
   "metadata": {},
   "source": [
    "### Connect to web driver"
   ]
  },
  {
   "cell_type": "code",
   "execution_count": 29,
   "id": "58a377f3",
   "metadata": {},
   "outputs": [],
   "source": [
    "driver=webdriver.Chrome(r'C:\\Users\\Lenovo\\Downloads\\chromedriver_win32\\chromedriver.exe')"
   ]
  },
  {
   "cell_type": "markdown",
   "id": "33f371d6",
   "metadata": {},
   "source": [
    "# Selenium Assignment"
   ]
  },
  {
   "cell_type": "markdown",
   "id": "ced67ff7",
   "metadata": {},
   "source": [
    "#### Q1: Write a python program to scrape data for “Data Analyst” Job position in “Bangalore” location. You have to scrape the job-title, job-location, company_name, experience_required. You have to scrape first 10 jobs data."
   ]
  },
  {
   "cell_type": "code",
   "execution_count": 30,
   "id": "2c534319",
   "metadata": {},
   "outputs": [],
   "source": [
    "url='https://www.naukri.com/'\n",
    "driver.get(url)"
   ]
  },
  {
   "cell_type": "code",
   "execution_count": 31,
   "id": "0bad3c80",
   "metadata": {},
   "outputs": [
    {
     "data": {
      "text/plain": [
       "<selenium.webdriver.remote.webelement.WebElement (session=\"fcb0526974607d8c35da1ec859d5ceca\", element=\"28e2b4e1-c417-4c92-9db4-cde7ad4bd783\")>"
      ]
     },
     "execution_count": 31,
     "metadata": {},
     "output_type": "execute_result"
    }
   ],
   "source": [
    "search_job=driver.find_element_by_id(\"qsb-keyskill-sugg\")\n",
    "search_job"
   ]
  },
  {
   "cell_type": "code",
   "execution_count": 32,
   "id": "7378f366",
   "metadata": {},
   "outputs": [],
   "source": [
    "search_job.send_keys(\"Data Analyst\")"
   ]
  },
  {
   "cell_type": "code",
   "execution_count": 34,
   "id": "18d1ceb9",
   "metadata": {},
   "outputs": [
    {
     "data": {
      "text/plain": [
       "<selenium.webdriver.remote.webelement.WebElement (session=\"fcb0526974607d8c35da1ec859d5ceca\", element=\"302935b8-e9f5-49da-b962-c30697d51e54\")>"
      ]
     },
     "execution_count": 34,
     "metadata": {},
     "output_type": "execute_result"
    }
   ],
   "source": [
    "search_locn=driver.find_element_by_xpath('/html/body/div[2]/div/div/span/div/div/div/div[1]/div/div/div[2]/div[1]/form/div[3]/div/div/div/div[1]/div/input')\n",
    "search_locn"
   ]
  },
  {
   "cell_type": "code",
   "execution_count": 35,
   "id": "b834603e",
   "metadata": {},
   "outputs": [],
   "source": [
    "search_locn.send_keys('Bangalore')"
   ]
  },
  {
   "cell_type": "code",
   "execution_count": 37,
   "id": "08bfb901",
   "metadata": {},
   "outputs": [
    {
     "data": {
      "text/plain": [
       "<selenium.webdriver.remote.webelement.WebElement (session=\"fcb0526974607d8c35da1ec859d5ceca\", element=\"ef5bc5ba-5567-4ffe-b546-8a3670522234\")>"
      ]
     },
     "execution_count": 37,
     "metadata": {},
     "output_type": "execute_result"
    }
   ],
   "source": [
    "search_btn=driver.find_element_by_xpath('/html/body/div[2]/div/div/span/div/div/div/div[1]/div/div/div[2]/div[1]/form/button')\n",
    "search_btn"
   ]
  },
  {
   "cell_type": "code",
   "execution_count": 38,
   "id": "3482df75",
   "metadata": {},
   "outputs": [],
   "source": [
    "search_btn.click()"
   ]
  },
  {
   "cell_type": "markdown",
   "id": "5fb11efc",
   "metadata": {},
   "source": [
    "#### Job Title"
   ]
  },
  {
   "cell_type": "code",
   "execution_count": 43,
   "id": "e2ebe766",
   "metadata": {},
   "outputs": [
    {
     "data": {
      "text/plain": [
       "[<selenium.webdriver.remote.webelement.WebElement (session=\"fcb0526974607d8c35da1ec859d5ceca\", element=\"105e3b56-1211-40c4-8178-b01aaf14d0c7\")>,\n",
       " <selenium.webdriver.remote.webelement.WebElement (session=\"fcb0526974607d8c35da1ec859d5ceca\", element=\"34af23ca-7d97-4976-8710-e6d87570c482\")>,\n",
       " <selenium.webdriver.remote.webelement.WebElement (session=\"fcb0526974607d8c35da1ec859d5ceca\", element=\"3def0d75-dcf1-42cf-bfb0-8543f4e1f5d3\")>,\n",
       " <selenium.webdriver.remote.webelement.WebElement (session=\"fcb0526974607d8c35da1ec859d5ceca\", element=\"cf27d339-6fc8-428b-a3a5-f9712f4d5937\")>,\n",
       " <selenium.webdriver.remote.webelement.WebElement (session=\"fcb0526974607d8c35da1ec859d5ceca\", element=\"c55a529a-46e5-4e31-8062-4dc09c71208e\")>,\n",
       " <selenium.webdriver.remote.webelement.WebElement (session=\"fcb0526974607d8c35da1ec859d5ceca\", element=\"f85cabd6-29b4-4a42-8022-1e5e17cb8bf8\")>,\n",
       " <selenium.webdriver.remote.webelement.WebElement (session=\"fcb0526974607d8c35da1ec859d5ceca\", element=\"b8d0f87b-8364-4ba4-82bb-1c99a14223bd\")>,\n",
       " <selenium.webdriver.remote.webelement.WebElement (session=\"fcb0526974607d8c35da1ec859d5ceca\", element=\"866da10e-9d4a-4c53-bc10-53032cbff479\")>,\n",
       " <selenium.webdriver.remote.webelement.WebElement (session=\"fcb0526974607d8c35da1ec859d5ceca\", element=\"d94223b7-0b98-486f-be29-46169c02ea82\")>,\n",
       " <selenium.webdriver.remote.webelement.WebElement (session=\"fcb0526974607d8c35da1ec859d5ceca\", element=\"32e248f1-e2f5-4520-abbb-0763a6b7cbe5\")>]"
      ]
     },
     "execution_count": 43,
     "metadata": {},
     "output_type": "execute_result"
    }
   ],
   "source": [
    "job_title=driver.find_elements_by_xpath('//a[@class=\"title fw500 ellipsis\"]')\n",
    "len(job_title)\n",
    "job_title[0:10]"
   ]
  },
  {
   "cell_type": "code",
   "execution_count": 44,
   "id": "28a2d4d9",
   "metadata": {},
   "outputs": [
    {
     "data": {
      "text/plain": [
       "['Senior Data Analyst - CRM',\n",
       " 'Senior Data Analyst - CRM',\n",
       " 'Market Data Analyst',\n",
       " 'Client Data Conversion Analyst',\n",
       " 'Senior Data Migration Analyst',\n",
       " 'Operations Data Analyst - Hiring For MNC - Upto 5 LPA -',\n",
       " 'Data Analyst - SQL/Python',\n",
       " 'Client Data Conversion Analyst',\n",
       " 'Data Analyst - CRM Platform',\n",
       " 'Hiring Data Analyst For Global Logic-Immediate Joiner']"
      ]
     },
     "execution_count": 44,
     "metadata": {},
     "output_type": "execute_result"
    }
   ],
   "source": [
    "job_titles=[]\n",
    "for i in job_title:\n",
    "    job_titles.append(i.text)\n",
    "len(job_titles)\n",
    "job_titles[0:10]"
   ]
  },
  {
   "cell_type": "markdown",
   "id": "3554ce7f",
   "metadata": {},
   "source": [
    "#### Company Name"
   ]
  },
  {
   "cell_type": "code",
   "execution_count": 47,
   "id": "9adf60bf",
   "metadata": {},
   "outputs": [
    {
     "data": {
      "text/plain": [
       "[<selenium.webdriver.remote.webelement.WebElement (session=\"fcb0526974607d8c35da1ec859d5ceca\", element=\"cfa37001-6430-4543-af9d-fba90b2f668c\")>,\n",
       " <selenium.webdriver.remote.webelement.WebElement (session=\"fcb0526974607d8c35da1ec859d5ceca\", element=\"3b53e358-e20a-4b5a-8ef9-5bad6e1f9d71\")>,\n",
       " <selenium.webdriver.remote.webelement.WebElement (session=\"fcb0526974607d8c35da1ec859d5ceca\", element=\"77aa4bd5-0d56-41ad-91a1-7526e1419d5e\")>,\n",
       " <selenium.webdriver.remote.webelement.WebElement (session=\"fcb0526974607d8c35da1ec859d5ceca\", element=\"47299b97-3c67-40d8-bd07-6e30f2766437\")>,\n",
       " <selenium.webdriver.remote.webelement.WebElement (session=\"fcb0526974607d8c35da1ec859d5ceca\", element=\"3a8abda7-f7e9-4bcb-843b-d42e373f3277\")>,\n",
       " <selenium.webdriver.remote.webelement.WebElement (session=\"fcb0526974607d8c35da1ec859d5ceca\", element=\"e9d0318c-dd3f-4a3f-beb9-6014e34494b0\")>,\n",
       " <selenium.webdriver.remote.webelement.WebElement (session=\"fcb0526974607d8c35da1ec859d5ceca\", element=\"6fc41ec1-20f0-4136-aebc-ad5937c09d1a\")>,\n",
       " <selenium.webdriver.remote.webelement.WebElement (session=\"fcb0526974607d8c35da1ec859d5ceca\", element=\"1a52541b-8862-47c6-88f9-c7e35e26d4c9\")>,\n",
       " <selenium.webdriver.remote.webelement.WebElement (session=\"fcb0526974607d8c35da1ec859d5ceca\", element=\"d1258ae2-7abf-4d31-ac26-bf1e309d3ac9\")>,\n",
       " <selenium.webdriver.remote.webelement.WebElement (session=\"fcb0526974607d8c35da1ec859d5ceca\", element=\"bfd1fadd-5fdc-4db2-902b-6b1368f655b3\")>]"
      ]
     },
     "execution_count": 47,
     "metadata": {},
     "output_type": "execute_result"
    }
   ],
   "source": [
    "company_tags=driver.find_elements_by_xpath('//a[@class=\"subTitle ellipsis fleft\"]')\n",
    "len(company_tags)\n",
    "company_tags[0:10]"
   ]
  },
  {
   "cell_type": "code",
   "execution_count": 48,
   "id": "e2ef9e5b",
   "metadata": {},
   "outputs": [
    {
     "data": {
      "text/plain": [
       "['Gojek Tech',\n",
       " 'GO-JEK India',\n",
       " 'Kaplan',\n",
       " 'American Express Global Business Travel',\n",
       " 'Q2ebanking',\n",
       " 'Universal Manpower Online',\n",
       " 'TalentStack',\n",
       " 'GBT India Private Limited',\n",
       " 'Artech infosystem',\n",
       " 'GlobalLogic']"
      ]
     },
     "execution_count": 48,
     "metadata": {},
     "output_type": "execute_result"
    }
   ],
   "source": [
    "company_name=[]\n",
    "for i in company_tags:\n",
    "    company_name.append(i.text)\n",
    "len(company_name)\n",
    "company_name[0:10]"
   ]
  },
  {
   "cell_type": "markdown",
   "id": "296be102",
   "metadata": {},
   "source": [
    "#### Experience"
   ]
  },
  {
   "cell_type": "code",
   "execution_count": 55,
   "id": "7a94b533",
   "metadata": {},
   "outputs": [
    {
     "data": {
      "text/plain": [
       "20"
      ]
     },
     "execution_count": 55,
     "metadata": {},
     "output_type": "execute_result"
    }
   ],
   "source": [
    "experience_tags=driver.find_elements_by_xpath('//li[@class=\"fleft grey-text br2 placeHolderLi experience\"]')\n",
    "len(experience_tags)"
   ]
  },
  {
   "cell_type": "code",
   "execution_count": 59,
   "id": "1bbe8052",
   "metadata": {},
   "outputs": [
    {
     "data": {
      "text/plain": [
       "['2-5 Yrs',\n",
       " '4-8 Yrs',\n",
       " '2-3 Yrs',\n",
       " '1-5 Yrs',\n",
       " '3-7 Yrs',\n",
       " '2-7 Yrs',\n",
       " '2-5 Yrs',\n",
       " '3-6 Yrs',\n",
       " '1-6 Yrs',\n",
       " '4-8 Yrs']"
      ]
     },
     "execution_count": 59,
     "metadata": {},
     "output_type": "execute_result"
    }
   ],
   "source": [
    "experience=[]\n",
    "for i in experience_tags:\n",
    "    experience.append(i.text)\n",
    "len(experience)\n",
    "experience[0:10]"
   ]
  },
  {
   "cell_type": "markdown",
   "id": "cd240446",
   "metadata": {},
   "source": [
    "#### Location"
   ]
  },
  {
   "cell_type": "code",
   "execution_count": 60,
   "id": "65686777",
   "metadata": {},
   "outputs": [
    {
     "data": {
      "text/plain": [
       "20"
      ]
     },
     "execution_count": 60,
     "metadata": {},
     "output_type": "execute_result"
    }
   ],
   "source": [
    "location_tags=driver.find_elements_by_xpath('//li[@class=\"fleft grey-text br2 placeHolderLi location\"]')\n",
    "len(location_tags)"
   ]
  },
  {
   "cell_type": "code",
   "execution_count": 62,
   "id": "05238521",
   "metadata": {},
   "outputs": [
    {
     "data": {
      "text/plain": [
       "['Bangalore/Bengaluru',\n",
       " 'Bangalore/Bengaluru',\n",
       " 'Bangalore/Bengaluru',\n",
       " 'Bangalore/Bengaluru',\n",
       " 'Bangalore/Bengaluru',\n",
       " 'Bangalore/Bengaluru',\n",
       " 'Bangalore/Bengaluru',\n",
       " 'Bangalore/Bengaluru',\n",
       " 'Kolkata, Mumbai, Hyderabad/Secunderabad, Pune, Chennai, Bangalore/Bengaluru, Delhi / NCR',\n",
       " 'Noida, Nagpur, Pune, Gurgaon/Gurugram, Bangalore/Bengaluru\\n(WFH during Covid)']"
      ]
     },
     "execution_count": 62,
     "metadata": {},
     "output_type": "execute_result"
    }
   ],
   "source": [
    "location=[]\n",
    "for i in location_tags:\n",
    "    location.append(i.text)\n",
    "len(location)\n",
    "location[0:10]"
   ]
  },
  {
   "cell_type": "code",
   "execution_count": 63,
   "id": "0ac58125",
   "metadata": {},
   "outputs": [
    {
     "data": {
      "text/plain": [
       "(20, 20, 20, 20)"
      ]
     },
     "execution_count": 63,
     "metadata": {},
     "output_type": "execute_result"
    }
   ],
   "source": [
    "len(job_titles),len(company_name),len(experience),len(location)"
   ]
  },
  {
   "cell_type": "code",
   "execution_count": 68,
   "id": "d55f5a0a",
   "metadata": {},
   "outputs": [
    {
     "data": {
      "text/html": [
       "<div>\n",
       "<style scoped>\n",
       "    .dataframe tbody tr th:only-of-type {\n",
       "        vertical-align: middle;\n",
       "    }\n",
       "\n",
       "    .dataframe tbody tr th {\n",
       "        vertical-align: top;\n",
       "    }\n",
       "\n",
       "    .dataframe thead th {\n",
       "        text-align: right;\n",
       "    }\n",
       "</style>\n",
       "<table border=\"1\" class=\"dataframe\">\n",
       "  <thead>\n",
       "    <tr style=\"text-align: right;\">\n",
       "      <th></th>\n",
       "      <th>Job Title</th>\n",
       "      <th>Company Name</th>\n",
       "      <th>Experince</th>\n",
       "      <th>Location</th>\n",
       "    </tr>\n",
       "  </thead>\n",
       "  <tbody>\n",
       "    <tr>\n",
       "      <th>0</th>\n",
       "      <td>Senior Data Analyst - CRM</td>\n",
       "      <td>Gojek Tech</td>\n",
       "      <td>2-5 Yrs</td>\n",
       "      <td>Bangalore/Bengaluru</td>\n",
       "    </tr>\n",
       "    <tr>\n",
       "      <th>1</th>\n",
       "      <td>Senior Data Analyst - CRM</td>\n",
       "      <td>GO-JEK India</td>\n",
       "      <td>4-8 Yrs</td>\n",
       "      <td>Bangalore/Bengaluru</td>\n",
       "    </tr>\n",
       "    <tr>\n",
       "      <th>2</th>\n",
       "      <td>Market Data Analyst</td>\n",
       "      <td>Kaplan</td>\n",
       "      <td>2-3 Yrs</td>\n",
       "      <td>Bangalore/Bengaluru</td>\n",
       "    </tr>\n",
       "    <tr>\n",
       "      <th>3</th>\n",
       "      <td>Client Data Conversion Analyst</td>\n",
       "      <td>American Express Global Business Travel</td>\n",
       "      <td>1-5 Yrs</td>\n",
       "      <td>Bangalore/Bengaluru</td>\n",
       "    </tr>\n",
       "    <tr>\n",
       "      <th>4</th>\n",
       "      <td>Senior Data Migration Analyst</td>\n",
       "      <td>Q2ebanking</td>\n",
       "      <td>3-7 Yrs</td>\n",
       "      <td>Bangalore/Bengaluru</td>\n",
       "    </tr>\n",
       "    <tr>\n",
       "      <th>5</th>\n",
       "      <td>Operations Data Analyst - Hiring For MNC - Upt...</td>\n",
       "      <td>Universal Manpower Online</td>\n",
       "      <td>2-7 Yrs</td>\n",
       "      <td>Bangalore/Bengaluru</td>\n",
       "    </tr>\n",
       "    <tr>\n",
       "      <th>6</th>\n",
       "      <td>Data Analyst - SQL/Python</td>\n",
       "      <td>TalentStack</td>\n",
       "      <td>2-5 Yrs</td>\n",
       "      <td>Bangalore/Bengaluru</td>\n",
       "    </tr>\n",
       "    <tr>\n",
       "      <th>7</th>\n",
       "      <td>Client Data Conversion Analyst</td>\n",
       "      <td>GBT India Private Limited</td>\n",
       "      <td>3-6 Yrs</td>\n",
       "      <td>Bangalore/Bengaluru</td>\n",
       "    </tr>\n",
       "    <tr>\n",
       "      <th>8</th>\n",
       "      <td>Data Analyst - CRM Platform</td>\n",
       "      <td>Artech infosystem</td>\n",
       "      <td>1-6 Yrs</td>\n",
       "      <td>Kolkata, Mumbai, Hyderabad/Secunderabad, Pune,...</td>\n",
       "    </tr>\n",
       "    <tr>\n",
       "      <th>9</th>\n",
       "      <td>Hiring Data Analyst For Global Logic-Immediate...</td>\n",
       "      <td>GlobalLogic</td>\n",
       "      <td>4-8 Yrs</td>\n",
       "      <td>Noida, Nagpur, Pune, Gurgaon/Gurugram, Bangalo...</td>\n",
       "    </tr>\n",
       "  </tbody>\n",
       "</table>\n",
       "</div>"
      ],
      "text/plain": [
       "                                           Job Title  \\\n",
       "0                          Senior Data Analyst - CRM   \n",
       "1                          Senior Data Analyst - CRM   \n",
       "2                                Market Data Analyst   \n",
       "3                     Client Data Conversion Analyst   \n",
       "4                      Senior Data Migration Analyst   \n",
       "5  Operations Data Analyst - Hiring For MNC - Upt...   \n",
       "6                          Data Analyst - SQL/Python   \n",
       "7                     Client Data Conversion Analyst   \n",
       "8                        Data Analyst - CRM Platform   \n",
       "9  Hiring Data Analyst For Global Logic-Immediate...   \n",
       "\n",
       "                              Company Name Experince  \\\n",
       "0                               Gojek Tech   2-5 Yrs   \n",
       "1                             GO-JEK India   4-8 Yrs   \n",
       "2                                   Kaplan   2-3 Yrs   \n",
       "3  American Express Global Business Travel   1-5 Yrs   \n",
       "4                               Q2ebanking   3-7 Yrs   \n",
       "5                Universal Manpower Online   2-7 Yrs   \n",
       "6                              TalentStack   2-5 Yrs   \n",
       "7                GBT India Private Limited   3-6 Yrs   \n",
       "8                        Artech infosystem   1-6 Yrs   \n",
       "9                              GlobalLogic   4-8 Yrs   \n",
       "\n",
       "                                            Location  \n",
       "0                                Bangalore/Bengaluru  \n",
       "1                                Bangalore/Bengaluru  \n",
       "2                                Bangalore/Bengaluru  \n",
       "3                                Bangalore/Bengaluru  \n",
       "4                                Bangalore/Bengaluru  \n",
       "5                                Bangalore/Bengaluru  \n",
       "6                                Bangalore/Bengaluru  \n",
       "7                                Bangalore/Bengaluru  \n",
       "8  Kolkata, Mumbai, Hyderabad/Secunderabad, Pune,...  \n",
       "9  Noida, Nagpur, Pune, Gurgaon/Gurugram, Bangalo...  "
      ]
     },
     "execution_count": 68,
     "metadata": {},
     "output_type": "execute_result"
    }
   ],
   "source": [
    "jobs=pd.DataFrame()\n",
    "jobs['Job Title']=job_titles\n",
    "jobs['Company Name']=company_name\n",
    "jobs['Experince']=experience\n",
    "jobs['Location']=location\n",
    "jobs[0:10]"
   ]
  },
  {
   "cell_type": "code",
   "execution_count": null,
   "id": "c5046e75",
   "metadata": {},
   "outputs": [],
   "source": []
  },
  {
   "cell_type": "markdown",
   "id": "f12802ad",
   "metadata": {},
   "source": [
    "#### Q2: Write a python program to scrape data for “Data Scientist” Job position in “Bangalore” location. You have to scrape the job-title, job-location, company_name. You have to scrape first 10 jobs data."
   ]
  },
  {
   "cell_type": "code",
   "execution_count": 71,
   "id": "c44b1660",
   "metadata": {},
   "outputs": [],
   "source": [
    "driver=webdriver.Chrome(r'C:\\Users\\Lenovo\\Downloads\\chromedriver_win32\\chromedriver.exe')"
   ]
  },
  {
   "cell_type": "code",
   "execution_count": 72,
   "id": "a605c340",
   "metadata": {},
   "outputs": [],
   "source": [
    "url='https://www.naukri.com/'\n",
    "driver.get(url)"
   ]
  },
  {
   "cell_type": "code",
   "execution_count": 73,
   "id": "fbfd347f",
   "metadata": {},
   "outputs": [
    {
     "data": {
      "text/plain": [
       "<selenium.webdriver.remote.webelement.WebElement (session=\"f95bace0350928d11e27d858fb00215e\", element=\"155048fd-2ece-4e5c-972e-47fb6ef2c38c\")>"
      ]
     },
     "execution_count": 73,
     "metadata": {},
     "output_type": "execute_result"
    }
   ],
   "source": [
    "search_job=driver.find_element_by_id(\"qsb-keyskill-sugg\")\n",
    "search_job"
   ]
  },
  {
   "cell_type": "code",
   "execution_count": 74,
   "id": "82238e21",
   "metadata": {},
   "outputs": [],
   "source": [
    "search_job.send_keys(\"Data Scientist\")"
   ]
  },
  {
   "cell_type": "code",
   "execution_count": 76,
   "id": "17f7353f",
   "metadata": {},
   "outputs": [
    {
     "data": {
      "text/plain": [
       "<selenium.webdriver.remote.webelement.WebElement (session=\"f95bace0350928d11e27d858fb00215e\", element=\"4f6d1ff2-9f46-4700-8640-0dce8a40a653\")>"
      ]
     },
     "execution_count": 76,
     "metadata": {},
     "output_type": "execute_result"
    }
   ],
   "source": [
    "search_locn=driver.find_element_by_xpath('/html/body/div[2]/div/div/span/div/div/div/div[1]/div/div/div[2]/div[1]/form/div[3]/div/div/div/div[1]/div/input')\n",
    "search_locn"
   ]
  },
  {
   "cell_type": "code",
   "execution_count": 77,
   "id": "97991586",
   "metadata": {},
   "outputs": [],
   "source": [
    "search_locn.send_keys('Bangalore')"
   ]
  },
  {
   "cell_type": "code",
   "execution_count": 78,
   "id": "313a9f83",
   "metadata": {},
   "outputs": [
    {
     "data": {
      "text/plain": [
       "<selenium.webdriver.remote.webelement.WebElement (session=\"f95bace0350928d11e27d858fb00215e\", element=\"39d3d1e7-a5eb-4ccb-b00f-c88899deb302\")>"
      ]
     },
     "execution_count": 78,
     "metadata": {},
     "output_type": "execute_result"
    }
   ],
   "source": [
    "search_btn=driver.find_element_by_xpath('/html/body/div[2]/div/div/span/div/div/div/div[1]/div/div/div[2]/div[1]/form/button')\n",
    "search_btn"
   ]
  },
  {
   "cell_type": "code",
   "execution_count": 79,
   "id": "b8f0dc42",
   "metadata": {},
   "outputs": [],
   "source": [
    "search_btn.click()"
   ]
  },
  {
   "cell_type": "markdown",
   "id": "68cdd280",
   "metadata": {},
   "source": [
    "#### Job Title"
   ]
  },
  {
   "cell_type": "code",
   "execution_count": 80,
   "id": "e2a0dc04",
   "metadata": {},
   "outputs": [
    {
     "data": {
      "text/plain": [
       "[<selenium.webdriver.remote.webelement.WebElement (session=\"f95bace0350928d11e27d858fb00215e\", element=\"842be6d6-5799-4572-a520-82aabaac6b60\")>,\n",
       " <selenium.webdriver.remote.webelement.WebElement (session=\"f95bace0350928d11e27d858fb00215e\", element=\"6b3952f9-0aa0-41d8-a873-246d833e8e32\")>,\n",
       " <selenium.webdriver.remote.webelement.WebElement (session=\"f95bace0350928d11e27d858fb00215e\", element=\"7e216443-aaed-4852-ac2f-3bb59dc62573\")>,\n",
       " <selenium.webdriver.remote.webelement.WebElement (session=\"f95bace0350928d11e27d858fb00215e\", element=\"3faab904-1176-46b9-bc57-2a1d9f5e62e3\")>,\n",
       " <selenium.webdriver.remote.webelement.WebElement (session=\"f95bace0350928d11e27d858fb00215e\", element=\"975edab8-50f8-458d-a433-4fa96a3794c2\")>,\n",
       " <selenium.webdriver.remote.webelement.WebElement (session=\"f95bace0350928d11e27d858fb00215e\", element=\"773ac9e2-7364-4e14-835b-c90352ed49cb\")>,\n",
       " <selenium.webdriver.remote.webelement.WebElement (session=\"f95bace0350928d11e27d858fb00215e\", element=\"686450b0-dd1b-431d-8e8e-101cad82bdeb\")>,\n",
       " <selenium.webdriver.remote.webelement.WebElement (session=\"f95bace0350928d11e27d858fb00215e\", element=\"d567b9c6-7dfa-4467-9693-3690f22194bc\")>,\n",
       " <selenium.webdriver.remote.webelement.WebElement (session=\"f95bace0350928d11e27d858fb00215e\", element=\"53bea29a-c8bb-439a-90ce-0a900018f8fd\")>,\n",
       " <selenium.webdriver.remote.webelement.WebElement (session=\"f95bace0350928d11e27d858fb00215e\", element=\"a1adaf84-6a1f-4987-a511-fdc503586269\")>]"
      ]
     },
     "execution_count": 80,
     "metadata": {},
     "output_type": "execute_result"
    }
   ],
   "source": [
    "job_title=driver.find_elements_by_xpath('//a[@class=\"title fw500 ellipsis\"]')\n",
    "len(job_title)\n",
    "job_title[0:10]"
   ]
  },
  {
   "cell_type": "code",
   "execution_count": 81,
   "id": "8c9416bc",
   "metadata": {},
   "outputs": [
    {
     "data": {
      "text/plain": [
       "['Sr . Data Scientist',\n",
       " 'Senior Data Scientist - Logistics',\n",
       " 'Data Scientist For a Leading TV channel -OTT',\n",
       " 'Sr. Data Scientist',\n",
       " 'Data Scientist @ Bangalore',\n",
       " 'Academic Counsellor- Data Scientist',\n",
       " 'Senior Data Scientist',\n",
       " 'Job opening with Wipro For Data Scientist',\n",
       " 'Openings For Jr/mid/Sr level data Scientists',\n",
       " 'Data Scientist']"
      ]
     },
     "execution_count": 81,
     "metadata": {},
     "output_type": "execute_result"
    }
   ],
   "source": [
    "job_titles=[]\n",
    "for i in job_title:\n",
    "    job_titles.append(i.text)\n",
    "len(job_titles)\n",
    "job_titles[0:10]"
   ]
  },
  {
   "cell_type": "markdown",
   "id": "403b1921",
   "metadata": {},
   "source": [
    "#### Location"
   ]
  },
  {
   "cell_type": "code",
   "execution_count": 84,
   "id": "446f4edb",
   "metadata": {},
   "outputs": [
    {
     "data": {
      "text/plain": [
       "20"
      ]
     },
     "execution_count": 84,
     "metadata": {},
     "output_type": "execute_result"
    }
   ],
   "source": [
    "location_tags=driver.find_elements_by_xpath('//li[@class=\"fleft grey-text br2 placeHolderLi location\"]')\n",
    "len(location_tags)"
   ]
  },
  {
   "cell_type": "code",
   "execution_count": 85,
   "id": "a090c818",
   "metadata": {},
   "outputs": [
    {
     "data": {
      "text/plain": [
       "['Bangalore/Bengaluru',\n",
       " 'Bangalore/Bengaluru',\n",
       " 'Bangalore/Bengaluru',\n",
       " 'Pune, Bangalore/Bengaluru, Mumbai (All Areas)\\n(WFH during Covid)',\n",
       " 'Pune, Bangalore/Bengaluru',\n",
       " 'Mumbai, Hyderabad/Secunderabad, Chennai, Gurgaon/Gurugram, Bangalore/Bengaluru',\n",
       " 'Bangalore/Bengaluru',\n",
       " 'Hyderabad/Secunderabad, Pune, Chennai, Bangalore/Bengaluru',\n",
       " 'Kolkata, Hyderabad/Secunderabad, Pune, Ahmedabad, Chennai, Bangalore/Bengaluru, Delhi / NCR, Mumbai (All Areas)\\n(WFH during Covid)',\n",
       " 'Bharuch, Jaipur, Bhopal, Mumbai, Jhansi, Nagpur, Ghaziabad, Jaunpur, Kanpur, Delhi, Lucknow, Agra, Gurgaon, Rajkot, Bengaluru']"
      ]
     },
     "execution_count": 85,
     "metadata": {},
     "output_type": "execute_result"
    }
   ],
   "source": [
    "location=[]\n",
    "for i in location_tags:\n",
    "    location.append(i.text)\n",
    "len(location)\n",
    "location[0:10]"
   ]
  },
  {
   "cell_type": "markdown",
   "id": "7811940e",
   "metadata": {},
   "source": [
    "#### Company Name"
   ]
  },
  {
   "cell_type": "code",
   "execution_count": 86,
   "id": "cd4fb788",
   "metadata": {},
   "outputs": [
    {
     "data": {
      "text/plain": [
       "[<selenium.webdriver.remote.webelement.WebElement (session=\"f95bace0350928d11e27d858fb00215e\", element=\"6afbef21-1d81-4bef-bdd4-df42f8a1a5bd\")>,\n",
       " <selenium.webdriver.remote.webelement.WebElement (session=\"f95bace0350928d11e27d858fb00215e\", element=\"ba11ef20-987e-4086-8c3f-670999a64848\")>,\n",
       " <selenium.webdriver.remote.webelement.WebElement (session=\"f95bace0350928d11e27d858fb00215e\", element=\"63db9c85-cf2b-41d5-9d12-96480aad1273\")>,\n",
       " <selenium.webdriver.remote.webelement.WebElement (session=\"f95bace0350928d11e27d858fb00215e\", element=\"a860513b-8a5e-4b9c-94b2-e0c22465e462\")>,\n",
       " <selenium.webdriver.remote.webelement.WebElement (session=\"f95bace0350928d11e27d858fb00215e\", element=\"0a806783-124e-4c11-b040-afb3c5005df1\")>,\n",
       " <selenium.webdriver.remote.webelement.WebElement (session=\"f95bace0350928d11e27d858fb00215e\", element=\"8c61bf50-ca27-422f-8c49-7028c4f97cb9\")>,\n",
       " <selenium.webdriver.remote.webelement.WebElement (session=\"f95bace0350928d11e27d858fb00215e\", element=\"676ee5d6-f56a-4b29-bd90-a74b93dbed31\")>,\n",
       " <selenium.webdriver.remote.webelement.WebElement (session=\"f95bace0350928d11e27d858fb00215e\", element=\"0ec66dc5-2e8a-4a46-bd51-9fcd5e357898\")>,\n",
       " <selenium.webdriver.remote.webelement.WebElement (session=\"f95bace0350928d11e27d858fb00215e\", element=\"f273d095-1f7d-4693-a83a-e8e7e2bbd55d\")>,\n",
       " <selenium.webdriver.remote.webelement.WebElement (session=\"f95bace0350928d11e27d858fb00215e\", element=\"0e7b1e2c-4593-484a-83e9-95ad772ff87a\")>]"
      ]
     },
     "execution_count": 86,
     "metadata": {},
     "output_type": "execute_result"
    }
   ],
   "source": [
    "company_tags=driver.find_elements_by_xpath('//a[@class=\"subTitle ellipsis fleft\"]')\n",
    "len(company_tags)\n",
    "company_tags[0:10]"
   ]
  },
  {
   "cell_type": "code",
   "execution_count": 87,
   "id": "b0525c78",
   "metadata": {},
   "outputs": [
    {
     "data": {
      "text/plain": [
       "['Harman Connected Services Corporation India Pvt.',\n",
       " 'Gojek Tech',\n",
       " 'Futurestep Recruitment Services Private Limited',\n",
       " 'NutaNXT Technologies',\n",
       " 'Fujitsu',\n",
       " 'AcadsHR',\n",
       " 'Greenizon Agritech Consultancy',\n",
       " 'Wipro',\n",
       " 'Pluto seven business solutions (p) limited',\n",
       " 'Country Veggie']"
      ]
     },
     "execution_count": 87,
     "metadata": {},
     "output_type": "execute_result"
    }
   ],
   "source": [
    "company_name=[]\n",
    "for i in company_tags:\n",
    "    company_name.append(i.text)\n",
    "len(company_name)\n",
    "company_name[0:10]"
   ]
  },
  {
   "cell_type": "code",
   "execution_count": 88,
   "id": "0cae678e",
   "metadata": {},
   "outputs": [
    {
     "data": {
      "text/plain": [
       "(20, 20, 20)"
      ]
     },
     "execution_count": 88,
     "metadata": {},
     "output_type": "execute_result"
    }
   ],
   "source": [
    "len(job_titles),len(company_name),len(location)"
   ]
  },
  {
   "cell_type": "code",
   "execution_count": 89,
   "id": "b07600c3",
   "metadata": {},
   "outputs": [
    {
     "data": {
      "text/html": [
       "<div>\n",
       "<style scoped>\n",
       "    .dataframe tbody tr th:only-of-type {\n",
       "        vertical-align: middle;\n",
       "    }\n",
       "\n",
       "    .dataframe tbody tr th {\n",
       "        vertical-align: top;\n",
       "    }\n",
       "\n",
       "    .dataframe thead th {\n",
       "        text-align: right;\n",
       "    }\n",
       "</style>\n",
       "<table border=\"1\" class=\"dataframe\">\n",
       "  <thead>\n",
       "    <tr style=\"text-align: right;\">\n",
       "      <th></th>\n",
       "      <th>Job Title</th>\n",
       "      <th>Company Name</th>\n",
       "      <th>Location</th>\n",
       "    </tr>\n",
       "  </thead>\n",
       "  <tbody>\n",
       "    <tr>\n",
       "      <th>0</th>\n",
       "      <td>Sr . Data Scientist</td>\n",
       "      <td>Harman Connected Services Corporation India Pvt.</td>\n",
       "      <td>Bangalore/Bengaluru</td>\n",
       "    </tr>\n",
       "    <tr>\n",
       "      <th>1</th>\n",
       "      <td>Senior Data Scientist - Logistics</td>\n",
       "      <td>Gojek Tech</td>\n",
       "      <td>Bangalore/Bengaluru</td>\n",
       "    </tr>\n",
       "    <tr>\n",
       "      <th>2</th>\n",
       "      <td>Data Scientist For a Leading TV channel -OTT</td>\n",
       "      <td>Futurestep Recruitment Services Private Limited</td>\n",
       "      <td>Bangalore/Bengaluru</td>\n",
       "    </tr>\n",
       "    <tr>\n",
       "      <th>3</th>\n",
       "      <td>Sr. Data Scientist</td>\n",
       "      <td>NutaNXT Technologies</td>\n",
       "      <td>Pune, Bangalore/Bengaluru, Mumbai (All Areas)\\...</td>\n",
       "    </tr>\n",
       "    <tr>\n",
       "      <th>4</th>\n",
       "      <td>Data Scientist @ Bangalore</td>\n",
       "      <td>Fujitsu</td>\n",
       "      <td>Pune, Bangalore/Bengaluru</td>\n",
       "    </tr>\n",
       "    <tr>\n",
       "      <th>5</th>\n",
       "      <td>Academic Counsellor- Data Scientist</td>\n",
       "      <td>AcadsHR</td>\n",
       "      <td>Mumbai, Hyderabad/Secunderabad, Chennai, Gurga...</td>\n",
       "    </tr>\n",
       "    <tr>\n",
       "      <th>6</th>\n",
       "      <td>Senior Data Scientist</td>\n",
       "      <td>Greenizon Agritech Consultancy</td>\n",
       "      <td>Bangalore/Bengaluru</td>\n",
       "    </tr>\n",
       "    <tr>\n",
       "      <th>7</th>\n",
       "      <td>Job opening with Wipro For Data Scientist</td>\n",
       "      <td>Wipro</td>\n",
       "      <td>Hyderabad/Secunderabad, Pune, Chennai, Bangalo...</td>\n",
       "    </tr>\n",
       "    <tr>\n",
       "      <th>8</th>\n",
       "      <td>Openings For Jr/mid/Sr level data Scientists</td>\n",
       "      <td>Pluto seven business solutions (p) limited</td>\n",
       "      <td>Kolkata, Hyderabad/Secunderabad, Pune, Ahmedab...</td>\n",
       "    </tr>\n",
       "    <tr>\n",
       "      <th>9</th>\n",
       "      <td>Data Scientist</td>\n",
       "      <td>Country Veggie</td>\n",
       "      <td>Bharuch, Jaipur, Bhopal, Mumbai, Jhansi, Nagpu...</td>\n",
       "    </tr>\n",
       "  </tbody>\n",
       "</table>\n",
       "</div>"
      ],
      "text/plain": [
       "                                      Job Title  \\\n",
       "0                           Sr . Data Scientist   \n",
       "1             Senior Data Scientist - Logistics   \n",
       "2  Data Scientist For a Leading TV channel -OTT   \n",
       "3                            Sr. Data Scientist   \n",
       "4                    Data Scientist @ Bangalore   \n",
       "5           Academic Counsellor- Data Scientist   \n",
       "6                         Senior Data Scientist   \n",
       "7     Job opening with Wipro For Data Scientist   \n",
       "8  Openings For Jr/mid/Sr level data Scientists   \n",
       "9                                Data Scientist   \n",
       "\n",
       "                                       Company Name  \\\n",
       "0  Harman Connected Services Corporation India Pvt.   \n",
       "1                                        Gojek Tech   \n",
       "2   Futurestep Recruitment Services Private Limited   \n",
       "3                              NutaNXT Technologies   \n",
       "4                                           Fujitsu   \n",
       "5                                           AcadsHR   \n",
       "6                    Greenizon Agritech Consultancy   \n",
       "7                                             Wipro   \n",
       "8        Pluto seven business solutions (p) limited   \n",
       "9                                    Country Veggie   \n",
       "\n",
       "                                            Location  \n",
       "0                                Bangalore/Bengaluru  \n",
       "1                                Bangalore/Bengaluru  \n",
       "2                                Bangalore/Bengaluru  \n",
       "3  Pune, Bangalore/Bengaluru, Mumbai (All Areas)\\...  \n",
       "4                          Pune, Bangalore/Bengaluru  \n",
       "5  Mumbai, Hyderabad/Secunderabad, Chennai, Gurga...  \n",
       "6                                Bangalore/Bengaluru  \n",
       "7  Hyderabad/Secunderabad, Pune, Chennai, Bangalo...  \n",
       "8  Kolkata, Hyderabad/Secunderabad, Pune, Ahmedab...  \n",
       "9  Bharuch, Jaipur, Bhopal, Mumbai, Jhansi, Nagpu...  "
      ]
     },
     "execution_count": 89,
     "metadata": {},
     "output_type": "execute_result"
    }
   ],
   "source": [
    "jobs=pd.DataFrame()\n",
    "jobs['Job Title']=job_titles\n",
    "jobs['Company Name']=company_name\n",
    "jobs['Location']=location\n",
    "jobs[0:10]"
   ]
  },
  {
   "cell_type": "code",
   "execution_count": null,
   "id": "5df97c9f",
   "metadata": {},
   "outputs": [],
   "source": []
  },
  {
   "cell_type": "markdown",
   "id": "da45348a",
   "metadata": {},
   "source": [
    "#### Q3: In this question you have to scrape data using the filters available on the webpage as shown below:\n",
    "You have to use the location and salary filter.\n",
    "You have to scrape data for “Data Scientist” designation for first 10 job results.\n",
    "You have to scrape the job-title, job-location, company name, experience required. The location filter to be used is “Delhi/NCR”. The salary filter to be used is “3-6” lakhs"
   ]
  },
  {
   "cell_type": "code",
   "execution_count": 90,
   "id": "0937d010",
   "metadata": {},
   "outputs": [],
   "source": [
    "driver=webdriver.Chrome(r'C:\\Users\\Lenovo\\Downloads\\chromedriver_win32\\chromedriver.exe')"
   ]
  },
  {
   "cell_type": "code",
   "execution_count": 91,
   "id": "980dab1c",
   "metadata": {},
   "outputs": [],
   "source": [
    "url='https://www.naukri.com/'\n",
    "driver.get(url)"
   ]
  },
  {
   "cell_type": "code",
   "execution_count": 92,
   "id": "c59eaad4",
   "metadata": {},
   "outputs": [
    {
     "data": {
      "text/plain": [
       "<selenium.webdriver.remote.webelement.WebElement (session=\"5ce512e1e0ecb84f2a015a0b39c4f6f6\", element=\"356edb78-8e6f-42ff-8b8c-1374fc237e4f\")>"
      ]
     },
     "execution_count": 92,
     "metadata": {},
     "output_type": "execute_result"
    }
   ],
   "source": [
    "search_job=driver.find_element_by_id(\"qsb-keyskill-sugg\")\n",
    "search_job"
   ]
  },
  {
   "cell_type": "code",
   "execution_count": 93,
   "id": "86afc18c",
   "metadata": {},
   "outputs": [],
   "source": [
    "search_job.send_keys(\"Data Scientist\")"
   ]
  },
  {
   "cell_type": "code",
   "execution_count": 94,
   "id": "2172d5fa",
   "metadata": {},
   "outputs": [
    {
     "data": {
      "text/plain": [
       "<selenium.webdriver.remote.webelement.WebElement (session=\"5ce512e1e0ecb84f2a015a0b39c4f6f6\", element=\"869a44ef-594a-4038-afb7-6ccf61834296\")>"
      ]
     },
     "execution_count": 94,
     "metadata": {},
     "output_type": "execute_result"
    }
   ],
   "source": [
    "search_locn=driver.find_element_by_xpath('/html/body/div[2]/div/div/span/div/div/div/div[1]/div/div/div[2]/div[1]/form/div[3]/div/div/div/div[1]/div/input')\n",
    "search_locn"
   ]
  },
  {
   "cell_type": "code",
   "execution_count": 95,
   "id": "d4c84bc5",
   "metadata": {},
   "outputs": [],
   "source": [
    "search_locn.send_keys('Delhi/NCR')"
   ]
  },
  {
   "cell_type": "code",
   "execution_count": 96,
   "id": "74425fc6",
   "metadata": {},
   "outputs": [
    {
     "data": {
      "text/plain": [
       "<selenium.webdriver.remote.webelement.WebElement (session=\"5ce512e1e0ecb84f2a015a0b39c4f6f6\", element=\"31b02e46-554f-455e-bc82-0b1fee773e8e\")>"
      ]
     },
     "execution_count": 96,
     "metadata": {},
     "output_type": "execute_result"
    }
   ],
   "source": [
    "search_btn=driver.find_element_by_xpath('/html/body/div[2]/div/div/span/div/div/div/div[1]/div/div/div[2]/div[1]/form/button')\n",
    "search_btn"
   ]
  },
  {
   "cell_type": "code",
   "execution_count": 97,
   "id": "bc833258",
   "metadata": {},
   "outputs": [],
   "source": [
    "search_btn.click()"
   ]
  },
  {
   "cell_type": "markdown",
   "id": "b8318bd0",
   "metadata": {},
   "source": [
    "#### Salary check"
   ]
  },
  {
   "cell_type": "code",
   "execution_count": 104,
   "id": "3f73c5d3",
   "metadata": {},
   "outputs": [],
   "source": [
    "salary_check=driver.find_element_by_xpath('/html/body/div[1]/div[3]/div[2]/section[1]/div[2]/div[4]/div[2]/div[2]/label/i')\n",
    "salary_check.click()"
   ]
  },
  {
   "cell_type": "markdown",
   "id": "623df1ec",
   "metadata": {},
   "source": [
    "#### Location Check- Delhi/NCR"
   ]
  },
  {
   "cell_type": "code",
   "execution_count": 105,
   "id": "689b11ea",
   "metadata": {},
   "outputs": [],
   "source": [
    "location_check=driver.find_element_by_xpath('/html/body/div[1]/div[3]/div[2]/section[1]/div[2]/div[4]/div[2]/div[3]/label/i')\n",
    "location_check.click()"
   ]
  },
  {
   "cell_type": "markdown",
   "id": "bdc36208",
   "metadata": {},
   "source": [
    "#### Job Title"
   ]
  },
  {
   "cell_type": "code",
   "execution_count": 143,
   "id": "ce68e164",
   "metadata": {},
   "outputs": [
    {
     "data": {
      "text/plain": [
       "[<selenium.webdriver.remote.webelement.WebElement (session=\"5ce512e1e0ecb84f2a015a0b39c4f6f6\", element=\"011bc9a7-5b50-4a27-ac0c-2425f0aa6197\")>,\n",
       " <selenium.webdriver.remote.webelement.WebElement (session=\"5ce512e1e0ecb84f2a015a0b39c4f6f6\", element=\"2dcff343-7b5a-4b0f-a6f6-795708964bf9\")>,\n",
       " <selenium.webdriver.remote.webelement.WebElement (session=\"5ce512e1e0ecb84f2a015a0b39c4f6f6\", element=\"308732cd-25d3-4698-8540-ffad23cbbafd\")>,\n",
       " <selenium.webdriver.remote.webelement.WebElement (session=\"5ce512e1e0ecb84f2a015a0b39c4f6f6\", element=\"2f37998f-828f-424e-be93-2bf14f15cc2b\")>,\n",
       " <selenium.webdriver.remote.webelement.WebElement (session=\"5ce512e1e0ecb84f2a015a0b39c4f6f6\", element=\"83f9080c-2ab8-416c-bffd-5eccafea2c12\")>,\n",
       " <selenium.webdriver.remote.webelement.WebElement (session=\"5ce512e1e0ecb84f2a015a0b39c4f6f6\", element=\"3a0020c7-e656-44fc-8f52-d40f32b0ab85\")>,\n",
       " <selenium.webdriver.remote.webelement.WebElement (session=\"5ce512e1e0ecb84f2a015a0b39c4f6f6\", element=\"c2f42e00-5290-4fd2-8c83-3091621f838d\")>,\n",
       " <selenium.webdriver.remote.webelement.WebElement (session=\"5ce512e1e0ecb84f2a015a0b39c4f6f6\", element=\"e07307c4-81a1-4f00-b57d-80a7d18cf79a\")>,\n",
       " <selenium.webdriver.remote.webelement.WebElement (session=\"5ce512e1e0ecb84f2a015a0b39c4f6f6\", element=\"0ff90b8f-3132-4598-881e-6b350ceebc2b\")>,\n",
       " <selenium.webdriver.remote.webelement.WebElement (session=\"5ce512e1e0ecb84f2a015a0b39c4f6f6\", element=\"6e70da7d-c726-422e-8528-ec5efc70a013\")>]"
      ]
     },
     "execution_count": 143,
     "metadata": {},
     "output_type": "execute_result"
    }
   ],
   "source": [
    "job_title=driver.find_elements_by_xpath('//a[@class=\"title fw500 ellipsis\"]')\n",
    "len(job_title)\n",
    "job_title[0:10]"
   ]
  },
  {
   "cell_type": "code",
   "execution_count": 144,
   "id": "f45b9534",
   "metadata": {},
   "outputs": [
    {
     "data": {
      "text/plain": [
       "['Data Scientist | Python | Machine Learning | Deep Learning- Fresher',\n",
       " 'Openings For Jr/mid/Sr level data Scientists',\n",
       " 'Data Scientist',\n",
       " 'Data Scientist / Senior DS/ Team Lead',\n",
       " 'Associate Data Scientist',\n",
       " 'Data Scientist Internship',\n",
       " 'Senior Data Scientist',\n",
       " 'Data Scientist role',\n",
       " 'Data Scientist',\n",
       " 'data scientist - biotechnology Jobs']"
      ]
     },
     "execution_count": 144,
     "metadata": {},
     "output_type": "execute_result"
    }
   ],
   "source": [
    "job_titles=[]\n",
    "for i in job_title:\n",
    "    job_titles.append(i.text)\n",
    "len(job_titles)\n",
    "job_titles[0:10]"
   ]
  },
  {
   "cell_type": "markdown",
   "id": "627a1485",
   "metadata": {},
   "source": [
    "#### Location"
   ]
  },
  {
   "cell_type": "code",
   "execution_count": 158,
   "id": "3b3aaba1",
   "metadata": {},
   "outputs": [
    {
     "data": {
      "text/plain": [
       "20"
      ]
     },
     "execution_count": 158,
     "metadata": {},
     "output_type": "execute_result"
    }
   ],
   "source": [
    "location_tags=driver.find_elements_by_xpath('//i[@class=\"fleft icon-16 lh16 mr-4 naukicon naukicon-location\"]')\n",
    "len(location_tags)"
   ]
  },
  {
   "cell_type": "code",
   "execution_count": 154,
   "id": "63be4cde",
   "metadata": {},
   "outputs": [
    {
     "data": {
      "text/plain": [
       "20"
      ]
     },
     "execution_count": 154,
     "metadata": {},
     "output_type": "execute_result"
    }
   ],
   "source": [
    "location=[]\n",
    "for i in location_tags:\n",
    "    location.append(i.text)\n",
    "len(location)"
   ]
  },
  {
   "cell_type": "code",
   "execution_count": 159,
   "id": "bde15712",
   "metadata": {},
   "outputs": [
    {
     "data": {
      "text/plain": [
       "['', '', '', '', '', '', '', '', '', '']"
      ]
     },
     "execution_count": 159,
     "metadata": {},
     "output_type": "execute_result"
    }
   ],
   "source": [
    "location[0:10]"
   ]
  },
  {
   "cell_type": "markdown",
   "id": "b1cb8336",
   "metadata": {},
   "source": [
    "#### Comapny Name"
   ]
  },
  {
   "cell_type": "code",
   "execution_count": 161,
   "id": "251e645c",
   "metadata": {},
   "outputs": [
    {
     "data": {
      "text/plain": [
       "[<selenium.webdriver.remote.webelement.WebElement (session=\"5ce512e1e0ecb84f2a015a0b39c4f6f6\", element=\"b0306569-caed-49c9-a8f5-aed8f2bb2797\")>,\n",
       " <selenium.webdriver.remote.webelement.WebElement (session=\"5ce512e1e0ecb84f2a015a0b39c4f6f6\", element=\"5245defa-041a-4d9a-86e2-ec7bd67a8e01\")>,\n",
       " <selenium.webdriver.remote.webelement.WebElement (session=\"5ce512e1e0ecb84f2a015a0b39c4f6f6\", element=\"92b8e918-0718-4e66-9058-6c833fea8897\")>,\n",
       " <selenium.webdriver.remote.webelement.WebElement (session=\"5ce512e1e0ecb84f2a015a0b39c4f6f6\", element=\"fc0ea455-6f10-4137-9852-ae2fd7310208\")>,\n",
       " <selenium.webdriver.remote.webelement.WebElement (session=\"5ce512e1e0ecb84f2a015a0b39c4f6f6\", element=\"d4730093-f475-437a-8544-617ddfc5ec6d\")>,\n",
       " <selenium.webdriver.remote.webelement.WebElement (session=\"5ce512e1e0ecb84f2a015a0b39c4f6f6\", element=\"39967c8e-82ff-4ebc-8dd0-b0004df4e663\")>,\n",
       " <selenium.webdriver.remote.webelement.WebElement (session=\"5ce512e1e0ecb84f2a015a0b39c4f6f6\", element=\"35b1264f-df45-4a2d-97d9-bc43e46cde43\")>,\n",
       " <selenium.webdriver.remote.webelement.WebElement (session=\"5ce512e1e0ecb84f2a015a0b39c4f6f6\", element=\"164a53ca-db92-44bd-b128-fcdfe43cde76\")>,\n",
       " <selenium.webdriver.remote.webelement.WebElement (session=\"5ce512e1e0ecb84f2a015a0b39c4f6f6\", element=\"79b59ee6-3d8e-4411-befb-1dff1e266497\")>,\n",
       " <selenium.webdriver.remote.webelement.WebElement (session=\"5ce512e1e0ecb84f2a015a0b39c4f6f6\", element=\"914ac3b7-366a-4904-946c-e05b90369de9\")>]"
      ]
     },
     "execution_count": 161,
     "metadata": {},
     "output_type": "execute_result"
    }
   ],
   "source": [
    "company_tags=driver.find_elements_by_xpath('//a[@class=\"subTitle ellipsis fleft\"]')\n",
    "len(company_tags)\n",
    "company_tags[0:10]"
   ]
  },
  {
   "cell_type": "code",
   "execution_count": 162,
   "id": "0d5a152e",
   "metadata": {},
   "outputs": [
    {
     "data": {
      "text/plain": [
       "['Schlesinger Group',\n",
       " 'Pluto seven business solutions (p) limited',\n",
       " 'Country Veggie',\n",
       " 'NebulARC Technologies Private Limited',\n",
       " 'Blow Trumpet Solutions',\n",
       " 'iHackers Inc',\n",
       " 'iNICU',\n",
       " 'Mount Talent Consulting Private Limited',\n",
       " 'BlackBuck',\n",
       " 'Right Step Consulting']"
      ]
     },
     "execution_count": 162,
     "metadata": {},
     "output_type": "execute_result"
    }
   ],
   "source": [
    "company_name=[]\n",
    "for i in company_tags:\n",
    "    company_name.append(i.text)\n",
    "len(company_name)\n",
    "company_name[0:10]"
   ]
  },
  {
   "cell_type": "markdown",
   "id": "837a583e",
   "metadata": {},
   "source": [
    "#### Experience"
   ]
  },
  {
   "cell_type": "code",
   "execution_count": 176,
   "id": "c000cf1b",
   "metadata": {},
   "outputs": [
    {
     "data": {
      "text/plain": [
       "20"
      ]
     },
     "execution_count": 176,
     "metadata": {},
     "output_type": "execute_result"
    }
   ],
   "source": [
    "experience_tags=driver.find_elements_by_xpath('//i[@class=\"fleft icon-16 lh16 mr-4 naukicon naukicon-experience\"]')\n",
    "len(experience_tags)"
   ]
  },
  {
   "cell_type": "code",
   "execution_count": 177,
   "id": "3ec1444b",
   "metadata": {},
   "outputs": [
    {
     "data": {
      "text/plain": [
       "['', '', '', '', '', '', '', '', '', '']"
      ]
     },
     "execution_count": 177,
     "metadata": {},
     "output_type": "execute_result"
    }
   ],
   "source": [
    "experience=[]\n",
    "for i in experience_tags:\n",
    "    experience.append(i.text)\n",
    "len(experience)\n",
    "experience[0:10]"
   ]
  },
  {
   "cell_type": "code",
   "execution_count": 178,
   "id": "7a1d5176",
   "metadata": {},
   "outputs": [
    {
     "data": {
      "text/plain": [
       "(20, 20, 20, 20)"
      ]
     },
     "execution_count": 178,
     "metadata": {},
     "output_type": "execute_result"
    }
   ],
   "source": [
    "len(job_titles),len(company_name),len(location),len(experience)"
   ]
  },
  {
   "cell_type": "code",
   "execution_count": 180,
   "id": "a057d125",
   "metadata": {},
   "outputs": [
    {
     "data": {
      "text/html": [
       "<div>\n",
       "<style scoped>\n",
       "    .dataframe tbody tr th:only-of-type {\n",
       "        vertical-align: middle;\n",
       "    }\n",
       "\n",
       "    .dataframe tbody tr th {\n",
       "        vertical-align: top;\n",
       "    }\n",
       "\n",
       "    .dataframe thead th {\n",
       "        text-align: right;\n",
       "    }\n",
       "</style>\n",
       "<table border=\"1\" class=\"dataframe\">\n",
       "  <thead>\n",
       "    <tr style=\"text-align: right;\">\n",
       "      <th></th>\n",
       "      <th>Job Title</th>\n",
       "      <th>Company Name</th>\n",
       "      <th>Experience</th>\n",
       "      <th>Location</th>\n",
       "    </tr>\n",
       "  </thead>\n",
       "  <tbody>\n",
       "    <tr>\n",
       "      <th>0</th>\n",
       "      <td>Data Scientist | Python | Machine Learning | D...</td>\n",
       "      <td>Schlesinger Group</td>\n",
       "      <td></td>\n",
       "      <td></td>\n",
       "    </tr>\n",
       "    <tr>\n",
       "      <th>1</th>\n",
       "      <td>Openings For Jr/mid/Sr level data Scientists</td>\n",
       "      <td>Pluto seven business solutions (p) limited</td>\n",
       "      <td></td>\n",
       "      <td></td>\n",
       "    </tr>\n",
       "    <tr>\n",
       "      <th>2</th>\n",
       "      <td>Data Scientist</td>\n",
       "      <td>Country Veggie</td>\n",
       "      <td></td>\n",
       "      <td></td>\n",
       "    </tr>\n",
       "    <tr>\n",
       "      <th>3</th>\n",
       "      <td>Data Scientist / Senior DS/ Team Lead</td>\n",
       "      <td>NebulARC Technologies Private Limited</td>\n",
       "      <td></td>\n",
       "      <td></td>\n",
       "    </tr>\n",
       "    <tr>\n",
       "      <th>4</th>\n",
       "      <td>Associate Data Scientist</td>\n",
       "      <td>Blow Trumpet Solutions</td>\n",
       "      <td></td>\n",
       "      <td></td>\n",
       "    </tr>\n",
       "    <tr>\n",
       "      <th>5</th>\n",
       "      <td>Data Scientist Internship</td>\n",
       "      <td>iHackers Inc</td>\n",
       "      <td></td>\n",
       "      <td></td>\n",
       "    </tr>\n",
       "    <tr>\n",
       "      <th>6</th>\n",
       "      <td>Senior Data Scientist</td>\n",
       "      <td>iNICU</td>\n",
       "      <td></td>\n",
       "      <td></td>\n",
       "    </tr>\n",
       "    <tr>\n",
       "      <th>7</th>\n",
       "      <td>Data Scientist role</td>\n",
       "      <td>Mount Talent Consulting Private Limited</td>\n",
       "      <td></td>\n",
       "      <td></td>\n",
       "    </tr>\n",
       "    <tr>\n",
       "      <th>8</th>\n",
       "      <td>Data Scientist</td>\n",
       "      <td>BlackBuck</td>\n",
       "      <td></td>\n",
       "      <td></td>\n",
       "    </tr>\n",
       "    <tr>\n",
       "      <th>9</th>\n",
       "      <td>data scientist - biotechnology Jobs</td>\n",
       "      <td>Right Step Consulting</td>\n",
       "      <td></td>\n",
       "      <td></td>\n",
       "    </tr>\n",
       "  </tbody>\n",
       "</table>\n",
       "</div>"
      ],
      "text/plain": [
       "                                           Job Title  \\\n",
       "0  Data Scientist | Python | Machine Learning | D...   \n",
       "1       Openings For Jr/mid/Sr level data Scientists   \n",
       "2                                     Data Scientist   \n",
       "3              Data Scientist / Senior DS/ Team Lead   \n",
       "4                           Associate Data Scientist   \n",
       "5                          Data Scientist Internship   \n",
       "6                              Senior Data Scientist   \n",
       "7                                Data Scientist role   \n",
       "8                                     Data Scientist   \n",
       "9                data scientist - biotechnology Jobs   \n",
       "\n",
       "                                 Company Name Experience Location  \n",
       "0                           Schlesinger Group                      \n",
       "1  Pluto seven business solutions (p) limited                      \n",
       "2                              Country Veggie                      \n",
       "3       NebulARC Technologies Private Limited                      \n",
       "4                      Blow Trumpet Solutions                      \n",
       "5                                iHackers Inc                      \n",
       "6                                       iNICU                      \n",
       "7     Mount Talent Consulting Private Limited                      \n",
       "8                                   BlackBuck                      \n",
       "9                       Right Step Consulting                      "
      ]
     },
     "execution_count": 180,
     "metadata": {},
     "output_type": "execute_result"
    }
   ],
   "source": [
    "jobs=pd.DataFrame()\n",
    "jobs['Job Title']=job_titles\n",
    "jobs['Company Name']=company_name\n",
    "jobs['Experience']=experience\n",
    "jobs['Location']=location\n",
    "jobs[0:10]"
   ]
  },
  {
   "cell_type": "markdown",
   "id": "fb69a96a",
   "metadata": {},
   "source": [
    "### In above question I tried many classes but it is not giving proper output for experience and location"
   ]
  },
  {
   "cell_type": "code",
   "execution_count": null,
   "id": "5a5dd682",
   "metadata": {},
   "outputs": [],
   "source": []
  },
  {
   "cell_type": "markdown",
   "id": "51dc0443",
   "metadata": {},
   "source": [
    "#### Q4: Scrape data of first 100 sunglasses listings on flipkart.com. You have to scrape four attributes:\n",
    "1. Brand\n",
    "2. Product Description\n",
    "3. Price"
   ]
  },
  {
   "cell_type": "code",
   "execution_count": 181,
   "id": "f3ddc7ea",
   "metadata": {},
   "outputs": [],
   "source": [
    "driver=webdriver.Chrome(r'C:\\Users\\Lenovo\\Downloads\\chromedriver_win32\\chromedriver.exe')"
   ]
  },
  {
   "cell_type": "code",
   "execution_count": 182,
   "id": "e93c39f1",
   "metadata": {},
   "outputs": [],
   "source": [
    "url='https://www.flipkart.com/'\n",
    "driver.get(url)"
   ]
  },
  {
   "cell_type": "code",
   "execution_count": null,
   "id": "a8388e06",
   "metadata": {},
   "outputs": [],
   "source": [
    "search=driver.find_element_by_id(\"\")\n",
    "search"
   ]
  },
  {
   "cell_type": "markdown",
   "id": "32b0f642",
   "metadata": {},
   "source": [
    "#### No id given"
   ]
  },
  {
   "cell_type": "code",
   "execution_count": 224,
   "id": "d1faef6d",
   "metadata": {},
   "outputs": [
    {
     "data": {
      "text/plain": [
       "[<selenium.webdriver.remote.webelement.WebElement (session=\"37c8899d04a27746738c7987bd1d966a\", element=\"cbb325aa-ae0b-489b-90dd-b16f3d4d1cdd\")>]"
      ]
     },
     "execution_count": 224,
     "metadata": {},
     "output_type": "execute_result"
    }
   ],
   "source": [
    "search_tags=driver.find_elements_by_xpath('//input[@class=\"_3704LK\"]')\n",
    "search"
   ]
  },
  {
   "cell_type": "code",
   "execution_count": 225,
   "id": "403401c3",
   "metadata": {},
   "outputs": [
    {
     "ename": "AttributeError",
     "evalue": "'list' object has no attribute 'send_keys'",
     "output_type": "error",
     "traceback": [
      "\u001b[1;31m---------------------------------------------------------------------------\u001b[0m",
      "\u001b[1;31mAttributeError\u001b[0m                            Traceback (most recent call last)",
      "\u001b[1;32m<ipython-input-225-e16e01e035d8>\u001b[0m in \u001b[0;36m<module>\u001b[1;34m\u001b[0m\n\u001b[1;32m----> 1\u001b[1;33m \u001b[0msearch_tags\u001b[0m\u001b[1;33m.\u001b[0m\u001b[0msend_keys\u001b[0m\u001b[1;33m(\u001b[0m\u001b[1;34m\"sunglasses\"\u001b[0m\u001b[1;33m)\u001b[0m\u001b[1;33m\u001b[0m\u001b[1;33m\u001b[0m\u001b[0m\n\u001b[0m",
      "\u001b[1;31mAttributeError\u001b[0m: 'list' object has no attribute 'send_keys'"
     ]
    }
   ],
   "source": [
    "search_tags.send_keys(\"sunglasses\")"
   ]
  },
  {
   "cell_type": "markdown",
   "id": "241c5fa4",
   "metadata": {},
   "source": [
    "#### Hence added sunglasses word in flipkart manually"
   ]
  },
  {
   "cell_type": "code",
   "execution_count": 231,
   "id": "8f7efe46",
   "metadata": {},
   "outputs": [
    {
     "ename": "NoSuchElementException",
     "evalue": "Message: no such element: Unable to locate element: {\"method\":\"xpath\",\"selector\":\"/html/body/div/div/div[1]/div[1]/div[2]/div[2]/form/div/button/svg\"}\n  (Session info: chrome=97.0.4692.71)\nStacktrace:\nBacktrace:\n\tOrdinal0 [0x0096FDC3+2555331]\n\tOrdinal0 [0x009077F1+2127857]\n\tOrdinal0 [0x00802E08+1060360]\n\tOrdinal0 [0x0082E49E+1238174]\n\tOrdinal0 [0x0082E69B+1238683]\n\tOrdinal0 [0x00859252+1413714]\n\tOrdinal0 [0x00847B54+1342292]\n\tOrdinal0 [0x008575FA+1406458]\n\tOrdinal0 [0x00847976+1341814]\n\tOrdinal0 [0x008236B6+1193654]\n\tOrdinal0 [0x00824546+1197382]\n\tGetHandleVerifier [0x00B09622+1619522]\n\tGetHandleVerifier [0x00BB882C+2336844]\n\tGetHandleVerifier [0x00A023E1+541697]\n\tGetHandleVerifier [0x00A01443+537699]\n\tOrdinal0 [0x0090D18E+2150798]\n\tOrdinal0 [0x00911518+2168088]\n\tOrdinal0 [0x00911660+2168416]\n\tOrdinal0 [0x0091B330+2208560]\n\tBaseThreadInitThunk [0x774BFA29+25]\n\tRtlGetAppContainerNamedObjectPath [0x77B075F4+228]\n\tRtlGetAppContainerNamedObjectPath [0x77B075C4+180]\n",
     "output_type": "error",
     "traceback": [
      "\u001b[1;31m---------------------------------------------------------------------------\u001b[0m",
      "\u001b[1;31mNoSuchElementException\u001b[0m                    Traceback (most recent call last)",
      "\u001b[1;32m<ipython-input-231-b7b82c27e9f3>\u001b[0m in \u001b[0;36m<module>\u001b[1;34m\u001b[0m\n\u001b[1;32m----> 1\u001b[1;33m \u001b[0msearch_btn\u001b[0m\u001b[1;33m=\u001b[0m\u001b[0mdriver\u001b[0m\u001b[1;33m.\u001b[0m\u001b[0mfind_element_by_xpath\u001b[0m\u001b[1;33m(\u001b[0m\u001b[1;34m'/html/body/div/div/div[1]/div[1]/div[2]/div[2]/form/div/button/svg'\u001b[0m\u001b[1;33m)\u001b[0m\u001b[1;33m\u001b[0m\u001b[1;33m\u001b[0m\u001b[0m\n\u001b[0m\u001b[0;32m      2\u001b[0m \u001b[0msearch_btn\u001b[0m\u001b[1;33m\u001b[0m\u001b[1;33m\u001b[0m\u001b[0m\n",
      "\u001b[1;32mC:\\ProgramData\\Anaconda3\\lib\\site-packages\\selenium\\webdriver\\remote\\webdriver.py\u001b[0m in \u001b[0;36mfind_element_by_xpath\u001b[1;34m(self, xpath)\u001b[0m\n\u001b[0;32m    518\u001b[0m             \u001b[0mstacklevel\u001b[0m\u001b[1;33m=\u001b[0m\u001b[1;36m2\u001b[0m\u001b[1;33m,\u001b[0m\u001b[1;33m\u001b[0m\u001b[1;33m\u001b[0m\u001b[0m\n\u001b[0;32m    519\u001b[0m         )\n\u001b[1;32m--> 520\u001b[1;33m         \u001b[1;32mreturn\u001b[0m \u001b[0mself\u001b[0m\u001b[1;33m.\u001b[0m\u001b[0mfind_element\u001b[0m\u001b[1;33m(\u001b[0m\u001b[0mby\u001b[0m\u001b[1;33m=\u001b[0m\u001b[0mBy\u001b[0m\u001b[1;33m.\u001b[0m\u001b[0mXPATH\u001b[0m\u001b[1;33m,\u001b[0m \u001b[0mvalue\u001b[0m\u001b[1;33m=\u001b[0m\u001b[0mxpath\u001b[0m\u001b[1;33m)\u001b[0m\u001b[1;33m\u001b[0m\u001b[1;33m\u001b[0m\u001b[0m\n\u001b[0m\u001b[0;32m    521\u001b[0m \u001b[1;33m\u001b[0m\u001b[0m\n\u001b[0;32m    522\u001b[0m     \u001b[1;32mdef\u001b[0m \u001b[0mfind_elements_by_xpath\u001b[0m\u001b[1;33m(\u001b[0m\u001b[0mself\u001b[0m\u001b[1;33m,\u001b[0m \u001b[0mxpath\u001b[0m\u001b[1;33m)\u001b[0m \u001b[1;33m->\u001b[0m \u001b[0mWebElement\u001b[0m\u001b[1;33m:\u001b[0m\u001b[1;33m\u001b[0m\u001b[1;33m\u001b[0m\u001b[0m\n",
      "\u001b[1;32mC:\\ProgramData\\Anaconda3\\lib\\site-packages\\selenium\\webdriver\\remote\\webdriver.py\u001b[0m in \u001b[0;36mfind_element\u001b[1;34m(self, by, value)\u001b[0m\n\u001b[0;32m   1242\u001b[0m             \u001b[0mvalue\u001b[0m \u001b[1;33m=\u001b[0m \u001b[1;34m'[name=\"%s\"]'\u001b[0m \u001b[1;33m%\u001b[0m \u001b[0mvalue\u001b[0m\u001b[1;33m\u001b[0m\u001b[1;33m\u001b[0m\u001b[0m\n\u001b[0;32m   1243\u001b[0m \u001b[1;33m\u001b[0m\u001b[0m\n\u001b[1;32m-> 1244\u001b[1;33m         return self.execute(Command.FIND_ELEMENT, {\n\u001b[0m\u001b[0;32m   1245\u001b[0m             \u001b[1;34m'using'\u001b[0m\u001b[1;33m:\u001b[0m \u001b[0mby\u001b[0m\u001b[1;33m,\u001b[0m\u001b[1;33m\u001b[0m\u001b[1;33m\u001b[0m\u001b[0m\n\u001b[0;32m   1246\u001b[0m             'value': value})['value']\n",
      "\u001b[1;32mC:\\ProgramData\\Anaconda3\\lib\\site-packages\\selenium\\webdriver\\remote\\webdriver.py\u001b[0m in \u001b[0;36mexecute\u001b[1;34m(self, driver_command, params)\u001b[0m\n\u001b[0;32m    422\u001b[0m         \u001b[0mresponse\u001b[0m \u001b[1;33m=\u001b[0m \u001b[0mself\u001b[0m\u001b[1;33m.\u001b[0m\u001b[0mcommand_executor\u001b[0m\u001b[1;33m.\u001b[0m\u001b[0mexecute\u001b[0m\u001b[1;33m(\u001b[0m\u001b[0mdriver_command\u001b[0m\u001b[1;33m,\u001b[0m \u001b[0mparams\u001b[0m\u001b[1;33m)\u001b[0m\u001b[1;33m\u001b[0m\u001b[1;33m\u001b[0m\u001b[0m\n\u001b[0;32m    423\u001b[0m         \u001b[1;32mif\u001b[0m \u001b[0mresponse\u001b[0m\u001b[1;33m:\u001b[0m\u001b[1;33m\u001b[0m\u001b[1;33m\u001b[0m\u001b[0m\n\u001b[1;32m--> 424\u001b[1;33m             \u001b[0mself\u001b[0m\u001b[1;33m.\u001b[0m\u001b[0merror_handler\u001b[0m\u001b[1;33m.\u001b[0m\u001b[0mcheck_response\u001b[0m\u001b[1;33m(\u001b[0m\u001b[0mresponse\u001b[0m\u001b[1;33m)\u001b[0m\u001b[1;33m\u001b[0m\u001b[1;33m\u001b[0m\u001b[0m\n\u001b[0m\u001b[0;32m    425\u001b[0m             response['value'] = self._unwrap_value(\n\u001b[0;32m    426\u001b[0m                 response.get('value', None))\n",
      "\u001b[1;32mC:\\ProgramData\\Anaconda3\\lib\\site-packages\\selenium\\webdriver\\remote\\errorhandler.py\u001b[0m in \u001b[0;36mcheck_response\u001b[1;34m(self, response)\u001b[0m\n\u001b[0;32m    245\u001b[0m                 \u001b[0malert_text\u001b[0m \u001b[1;33m=\u001b[0m \u001b[0mvalue\u001b[0m\u001b[1;33m[\u001b[0m\u001b[1;34m'alert'\u001b[0m\u001b[1;33m]\u001b[0m\u001b[1;33m.\u001b[0m\u001b[0mget\u001b[0m\u001b[1;33m(\u001b[0m\u001b[1;34m'text'\u001b[0m\u001b[1;33m)\u001b[0m\u001b[1;33m\u001b[0m\u001b[1;33m\u001b[0m\u001b[0m\n\u001b[0;32m    246\u001b[0m             \u001b[1;32mraise\u001b[0m \u001b[0mexception_class\u001b[0m\u001b[1;33m(\u001b[0m\u001b[0mmessage\u001b[0m\u001b[1;33m,\u001b[0m \u001b[0mscreen\u001b[0m\u001b[1;33m,\u001b[0m \u001b[0mstacktrace\u001b[0m\u001b[1;33m,\u001b[0m \u001b[0malert_text\u001b[0m\u001b[1;33m)\u001b[0m  \u001b[1;31m# type: ignore[call-arg]  # mypy is not smart enough here\u001b[0m\u001b[1;33m\u001b[0m\u001b[1;33m\u001b[0m\u001b[0m\n\u001b[1;32m--> 247\u001b[1;33m         \u001b[1;32mraise\u001b[0m \u001b[0mexception_class\u001b[0m\u001b[1;33m(\u001b[0m\u001b[0mmessage\u001b[0m\u001b[1;33m,\u001b[0m \u001b[0mscreen\u001b[0m\u001b[1;33m,\u001b[0m \u001b[0mstacktrace\u001b[0m\u001b[1;33m)\u001b[0m\u001b[1;33m\u001b[0m\u001b[1;33m\u001b[0m\u001b[0m\n\u001b[0m\u001b[0;32m    248\u001b[0m \u001b[1;33m\u001b[0m\u001b[0m\n\u001b[0;32m    249\u001b[0m     \u001b[1;32mdef\u001b[0m \u001b[0m_value_or_default\u001b[0m\u001b[1;33m(\u001b[0m\u001b[0mself\u001b[0m\u001b[1;33m,\u001b[0m \u001b[0mobj\u001b[0m\u001b[1;33m:\u001b[0m \u001b[0mMapping\u001b[0m\u001b[1;33m[\u001b[0m\u001b[0m_KT\u001b[0m\u001b[1;33m,\u001b[0m \u001b[0m_VT\u001b[0m\u001b[1;33m]\u001b[0m\u001b[1;33m,\u001b[0m \u001b[0mkey\u001b[0m\u001b[1;33m:\u001b[0m \u001b[0m_KT\u001b[0m\u001b[1;33m,\u001b[0m \u001b[0mdefault\u001b[0m\u001b[1;33m:\u001b[0m \u001b[0m_VT\u001b[0m\u001b[1;33m)\u001b[0m \u001b[1;33m->\u001b[0m \u001b[0m_VT\u001b[0m\u001b[1;33m:\u001b[0m\u001b[1;33m\u001b[0m\u001b[1;33m\u001b[0m\u001b[0m\n",
      "\u001b[1;31mNoSuchElementException\u001b[0m: Message: no such element: Unable to locate element: {\"method\":\"xpath\",\"selector\":\"/html/body/div/div/div[1]/div[1]/div[2]/div[2]/form/div/button/svg\"}\n  (Session info: chrome=97.0.4692.71)\nStacktrace:\nBacktrace:\n\tOrdinal0 [0x0096FDC3+2555331]\n\tOrdinal0 [0x009077F1+2127857]\n\tOrdinal0 [0x00802E08+1060360]\n\tOrdinal0 [0x0082E49E+1238174]\n\tOrdinal0 [0x0082E69B+1238683]\n\tOrdinal0 [0x00859252+1413714]\n\tOrdinal0 [0x00847B54+1342292]\n\tOrdinal0 [0x008575FA+1406458]\n\tOrdinal0 [0x00847976+1341814]\n\tOrdinal0 [0x008236B6+1193654]\n\tOrdinal0 [0x00824546+1197382]\n\tGetHandleVerifier [0x00B09622+1619522]\n\tGetHandleVerifier [0x00BB882C+2336844]\n\tGetHandleVerifier [0x00A023E1+541697]\n\tGetHandleVerifier [0x00A01443+537699]\n\tOrdinal0 [0x0090D18E+2150798]\n\tOrdinal0 [0x00911518+2168088]\n\tOrdinal0 [0x00911660+2168416]\n\tOrdinal0 [0x0091B330+2208560]\n\tBaseThreadInitThunk [0x774BFA29+25]\n\tRtlGetAppContainerNamedObjectPath [0x77B075F4+228]\n\tRtlGetAppContainerNamedObjectPath [0x77B075C4+180]\n"
     ]
    }
   ],
   "source": [
    "search_btn=driver.find_element_by_xpath('/html/body/div/div/div[1]/div[1]/div[2]/div[2]/form/div/button/svg')\n",
    "search_btn"
   ]
  },
  {
   "cell_type": "markdown",
   "id": "12b085b2",
   "metadata": {},
   "source": [
    "#### Hence clicked search icon manually"
   ]
  },
  {
   "cell_type": "code",
   "execution_count": 233,
   "id": "dba2a9af",
   "metadata": {},
   "outputs": [
    {
     "data": {
      "text/plain": [
       "40"
      ]
     },
     "execution_count": 233,
     "metadata": {},
     "output_type": "execute_result"
    }
   ],
   "source": [
    "brand=driver.find_elements_by_xpath('//div[@class=\"_2WkVRV\"]')\n",
    "len(brand)"
   ]
  },
  {
   "cell_type": "code",
   "execution_count": 235,
   "id": "20f13672",
   "metadata": {},
   "outputs": [
    {
     "data": {
      "text/plain": [
       "['VINCENT CHASE',\n",
       " 'ROZZETTA CRAFT',\n",
       " 'Fastrack',\n",
       " 'PIRASO',\n",
       " 'kingsunglasses',\n",
       " 'Elligator',\n",
       " 'SRPM',\n",
       " 'LAURELS',\n",
       " 'ROZZETTA CRAFT',\n",
       " 'SHAAH COLLECTIONS',\n",
       " 'PHENOMENAL',\n",
       " 'ROZZETTA CRAFT',\n",
       " 'ROYAL SON',\n",
       " 'SUNBEE',\n",
       " 'New Specs',\n",
       " 'VINCENT CHASE',\n",
       " 'Rich Club',\n",
       " 'Singco India',\n",
       " 'hipe',\n",
       " 'VILLAIN',\n",
       " 'agera',\n",
       " 'Lee Topper',\n",
       " 'Johaena',\n",
       " 'AISLIN',\n",
       " 'Silver Kartz',\n",
       " 'Mi',\n",
       " 'Urbanic',\n",
       " 'NuVew',\n",
       " 'DEIXELS',\n",
       " 'maxa',\n",
       " 'IDEE',\n",
       " 'AISLIN',\n",
       " 'GANSTA',\n",
       " 'Billion',\n",
       " 'HIPPON',\n",
       " 'DEIXELS',\n",
       " 'Singco',\n",
       " 'Fravy',\n",
       " 'Flizz',\n",
       " 'ROZZETTA CRAFT']"
      ]
     },
     "execution_count": 235,
     "metadata": {},
     "output_type": "execute_result"
    }
   ],
   "source": [
    "brands=[]\n",
    "for i in brand:\n",
    "    brands.append(i.text)\n",
    "len(brands)\n",
    "brands"
   ]
  },
  {
   "cell_type": "code",
   "execution_count": 237,
   "id": "03047d57",
   "metadata": {},
   "outputs": [
    {
     "data": {
      "text/plain": [
       "40"
      ]
     },
     "execution_count": 237,
     "metadata": {},
     "output_type": "execute_result"
    }
   ],
   "source": [
    "description=driver.find_elements_by_xpath('//a[@class=\"IRpwTa\"]')\n",
    "len(description)"
   ]
  },
  {
   "cell_type": "code",
   "execution_count": 238,
   "id": "0cb8ba0c",
   "metadata": {},
   "outputs": [
    {
     "data": {
      "text/plain": [
       "40"
      ]
     },
     "execution_count": 238,
     "metadata": {},
     "output_type": "execute_result"
    }
   ],
   "source": [
    "descriptions=[]\n",
    "for i in description:\n",
    "    descriptions.append(i.text)\n",
    "len(descriptions)"
   ]
  },
  {
   "cell_type": "code",
   "execution_count": 239,
   "id": "14ce2a77",
   "metadata": {},
   "outputs": [
    {
     "data": {
      "text/plain": [
       "['by Lenskart Polarized, UV Protection Round Sunglasses (...',\n",
       " 'Gradient Round Sunglasses (Free Size)',\n",
       " 'UV Protection Wayfarer Sunglasses (Free Size)',\n",
       " 'UV Protection Aviator Sunglasses (54)',\n",
       " 'UV Protection Round Sunglasses (54)',\n",
       " 'UV Protection Round Sunglasses (54)',\n",
       " 'UV Protection Wayfarer Sunglasses (56)',\n",
       " 'UV Protection Wayfarer Sunglasses (53)',\n",
       " 'UV Protection, Gradient Rectangular Sunglasses (Free Si...',\n",
       " 'UV Protection, Polarized, Mirrored Rectangular Sunglass...',\n",
       " 'UV Protection Retro Square Sunglasses (Free Size)',\n",
       " 'UV Protection, Riding Glasses Rectangular Sunglasses (F...',\n",
       " 'UV Protection Rectangular Sunglasses (58)',\n",
       " 'UV Protection, Polarized, Mirrored Round Sunglasses (Fr...',\n",
       " 'Mirrored, UV Protection, Riding Glasses, Others Round S...',\n",
       " 'by Lenskart UV Protection Wayfarer Sunglasses (49)',\n",
       " 'UV Protection Round Sunglasses (50)',\n",
       " 'Gradient, Toughened Glass Lens, UV Protection Retro Squ...',\n",
       " 'Mirrored, Gradient, UV Protection Aviator Sunglasses (5...',\n",
       " 'Others Retro Square Sunglasses (Free Size)',\n",
       " 'Gradient Aviator Sunglasses (55)',\n",
       " 'Riding Glasses, Night Vision Wrap-around Sunglasses (Fr...',\n",
       " 'Riding Glasses, UV Protection Oval Sunglasses (48)',\n",
       " 'Polarized, UV Protection, Gradient Wayfarer, Round Sung...',\n",
       " 'UV Protection Wayfarer Sunglasses (Free Size)',\n",
       " 'Polarized Aviator Sunglasses (Free Size)',\n",
       " 'Others Retro Square Sunglasses (Free Size)',\n",
       " 'UV Protection Retro Square, Wayfarer Sunglasses (58)',\n",
       " 'UV Protection Aviator, Wayfarer Sunglasses (Free Size)',\n",
       " 'UV Protection, Riding Glasses Rectangular, Wayfarer, Ov...',\n",
       " 'UV Protection Wayfarer Sunglasses (55)',\n",
       " 'UV Protection, Gradient Cat-eye Sunglasses (61)',\n",
       " 'UV Protection, Riding Glasses Wayfarer Sunglasses (53)',\n",
       " 'UV Protection Aviator Sunglasses (57)',\n",
       " 'UV Protection Wayfarer Sunglasses (55)',\n",
       " 'UV Protection Rectangular Sunglasses (Free Size)',\n",
       " 'UV Protection Aviator Sunglasses (Free Size)',\n",
       " 'UV Protection, Gradient, Night Vision Retro Square Sung...',\n",
       " 'UV Protection, Polarized Rectangular Sunglasses (Free S...',\n",
       " 'UV Protection Retro Square Sunglasses (Free Size)']"
      ]
     },
     "execution_count": 239,
     "metadata": {},
     "output_type": "execute_result"
    }
   ],
   "source": [
    "descriptions"
   ]
  },
  {
   "cell_type": "code",
   "execution_count": 240,
   "id": "bff95fdd",
   "metadata": {},
   "outputs": [
    {
     "data": {
      "text/plain": [
       "40"
      ]
     },
     "execution_count": 240,
     "metadata": {},
     "output_type": "execute_result"
    }
   ],
   "source": [
    "price=driver.find_elements_by_xpath('//div[@class=\"_30jeq3\"]')\n",
    "len(price)"
   ]
  },
  {
   "cell_type": "code",
   "execution_count": 241,
   "id": "42d94e0c",
   "metadata": {},
   "outputs": [
    {
     "data": {
      "text/plain": [
       "40"
      ]
     },
     "execution_count": 241,
     "metadata": {},
     "output_type": "execute_result"
    }
   ],
   "source": [
    "Price=[]\n",
    "for i in price:\n",
    "    Price.append(i.text)\n",
    "len(Price)"
   ]
  },
  {
   "cell_type": "code",
   "execution_count": 242,
   "id": "948499b6",
   "metadata": {},
   "outputs": [
    {
     "data": {
      "text/plain": [
       "['₹1,179',\n",
       " '₹426',\n",
       " '₹759',\n",
       " '₹200',\n",
       " '₹188',\n",
       " '₹248',\n",
       " '₹198',\n",
       " '₹246',\n",
       " '₹383',\n",
       " '₹165',\n",
       " '₹309',\n",
       " '₹426',\n",
       " '₹449',\n",
       " '₹271',\n",
       " '₹262',\n",
       " '₹1,179',\n",
       " '₹355',\n",
       " '₹599',\n",
       " '₹178',\n",
       " '₹549',\n",
       " '₹196',\n",
       " '₹276',\n",
       " '₹156',\n",
       " '₹1,125',\n",
       " '₹246',\n",
       " '₹1,199',\n",
       " '₹499',\n",
       " '₹188',\n",
       " '₹229',\n",
       " '₹144',\n",
       " '₹1,339',\n",
       " '₹459',\n",
       " '₹209',\n",
       " '₹224',\n",
       " '₹218',\n",
       " '₹319',\n",
       " '₹498',\n",
       " '₹245',\n",
       " '₹244',\n",
       " '₹325']"
      ]
     },
     "execution_count": 242,
     "metadata": {},
     "output_type": "execute_result"
    }
   ],
   "source": [
    "Price"
   ]
  },
  {
   "cell_type": "code",
   "execution_count": 243,
   "id": "b9c28a91",
   "metadata": {},
   "outputs": [
    {
     "data": {
      "text/html": [
       "<div>\n",
       "<style scoped>\n",
       "    .dataframe tbody tr th:only-of-type {\n",
       "        vertical-align: middle;\n",
       "    }\n",
       "\n",
       "    .dataframe tbody tr th {\n",
       "        vertical-align: top;\n",
       "    }\n",
       "\n",
       "    .dataframe thead th {\n",
       "        text-align: right;\n",
       "    }\n",
       "</style>\n",
       "<table border=\"1\" class=\"dataframe\">\n",
       "  <thead>\n",
       "    <tr style=\"text-align: right;\">\n",
       "      <th></th>\n",
       "      <th>Brand</th>\n",
       "      <th>Description</th>\n",
       "      <th>Price</th>\n",
       "    </tr>\n",
       "  </thead>\n",
       "  <tbody>\n",
       "    <tr>\n",
       "      <th>0</th>\n",
       "      <td>VINCENT CHASE</td>\n",
       "      <td>by Lenskart Polarized, UV Protection Round Sun...</td>\n",
       "      <td>₹1,179</td>\n",
       "    </tr>\n",
       "    <tr>\n",
       "      <th>1</th>\n",
       "      <td>ROZZETTA CRAFT</td>\n",
       "      <td>Gradient Round Sunglasses (Free Size)</td>\n",
       "      <td>₹426</td>\n",
       "    </tr>\n",
       "    <tr>\n",
       "      <th>2</th>\n",
       "      <td>Fastrack</td>\n",
       "      <td>UV Protection Wayfarer Sunglasses (Free Size)</td>\n",
       "      <td>₹759</td>\n",
       "    </tr>\n",
       "    <tr>\n",
       "      <th>3</th>\n",
       "      <td>PIRASO</td>\n",
       "      <td>UV Protection Aviator Sunglasses (54)</td>\n",
       "      <td>₹200</td>\n",
       "    </tr>\n",
       "    <tr>\n",
       "      <th>4</th>\n",
       "      <td>kingsunglasses</td>\n",
       "      <td>UV Protection Round Sunglasses (54)</td>\n",
       "      <td>₹188</td>\n",
       "    </tr>\n",
       "    <tr>\n",
       "      <th>5</th>\n",
       "      <td>Elligator</td>\n",
       "      <td>UV Protection Round Sunglasses (54)</td>\n",
       "      <td>₹248</td>\n",
       "    </tr>\n",
       "    <tr>\n",
       "      <th>6</th>\n",
       "      <td>SRPM</td>\n",
       "      <td>UV Protection Wayfarer Sunglasses (56)</td>\n",
       "      <td>₹198</td>\n",
       "    </tr>\n",
       "    <tr>\n",
       "      <th>7</th>\n",
       "      <td>LAURELS</td>\n",
       "      <td>UV Protection Wayfarer Sunglasses (53)</td>\n",
       "      <td>₹246</td>\n",
       "    </tr>\n",
       "    <tr>\n",
       "      <th>8</th>\n",
       "      <td>ROZZETTA CRAFT</td>\n",
       "      <td>UV Protection, Gradient Rectangular Sunglasses...</td>\n",
       "      <td>₹383</td>\n",
       "    </tr>\n",
       "    <tr>\n",
       "      <th>9</th>\n",
       "      <td>SHAAH COLLECTIONS</td>\n",
       "      <td>UV Protection, Polarized, Mirrored Rectangular...</td>\n",
       "      <td>₹165</td>\n",
       "    </tr>\n",
       "    <tr>\n",
       "      <th>10</th>\n",
       "      <td>PHENOMENAL</td>\n",
       "      <td>UV Protection Retro Square Sunglasses (Free Size)</td>\n",
       "      <td>₹309</td>\n",
       "    </tr>\n",
       "    <tr>\n",
       "      <th>11</th>\n",
       "      <td>ROZZETTA CRAFT</td>\n",
       "      <td>UV Protection, Riding Glasses Rectangular Sung...</td>\n",
       "      <td>₹426</td>\n",
       "    </tr>\n",
       "    <tr>\n",
       "      <th>12</th>\n",
       "      <td>ROYAL SON</td>\n",
       "      <td>UV Protection Rectangular Sunglasses (58)</td>\n",
       "      <td>₹449</td>\n",
       "    </tr>\n",
       "    <tr>\n",
       "      <th>13</th>\n",
       "      <td>SUNBEE</td>\n",
       "      <td>UV Protection, Polarized, Mirrored Round Sungl...</td>\n",
       "      <td>₹271</td>\n",
       "    </tr>\n",
       "    <tr>\n",
       "      <th>14</th>\n",
       "      <td>New Specs</td>\n",
       "      <td>Mirrored, UV Protection, Riding Glasses, Other...</td>\n",
       "      <td>₹262</td>\n",
       "    </tr>\n",
       "    <tr>\n",
       "      <th>15</th>\n",
       "      <td>VINCENT CHASE</td>\n",
       "      <td>by Lenskart UV Protection Wayfarer Sunglasses ...</td>\n",
       "      <td>₹1,179</td>\n",
       "    </tr>\n",
       "    <tr>\n",
       "      <th>16</th>\n",
       "      <td>Rich Club</td>\n",
       "      <td>UV Protection Round Sunglasses (50)</td>\n",
       "      <td>₹355</td>\n",
       "    </tr>\n",
       "    <tr>\n",
       "      <th>17</th>\n",
       "      <td>Singco India</td>\n",
       "      <td>Gradient, Toughened Glass Lens, UV Protection ...</td>\n",
       "      <td>₹599</td>\n",
       "    </tr>\n",
       "    <tr>\n",
       "      <th>18</th>\n",
       "      <td>hipe</td>\n",
       "      <td>Mirrored, Gradient, UV Protection Aviator Sung...</td>\n",
       "      <td>₹178</td>\n",
       "    </tr>\n",
       "    <tr>\n",
       "      <th>19</th>\n",
       "      <td>VILLAIN</td>\n",
       "      <td>Others Retro Square Sunglasses (Free Size)</td>\n",
       "      <td>₹549</td>\n",
       "    </tr>\n",
       "    <tr>\n",
       "      <th>20</th>\n",
       "      <td>agera</td>\n",
       "      <td>Gradient Aviator Sunglasses (55)</td>\n",
       "      <td>₹196</td>\n",
       "    </tr>\n",
       "    <tr>\n",
       "      <th>21</th>\n",
       "      <td>Lee Topper</td>\n",
       "      <td>Riding Glasses, Night Vision Wrap-around Sungl...</td>\n",
       "      <td>₹276</td>\n",
       "    </tr>\n",
       "    <tr>\n",
       "      <th>22</th>\n",
       "      <td>Johaena</td>\n",
       "      <td>Riding Glasses, UV Protection Oval Sunglasses ...</td>\n",
       "      <td>₹156</td>\n",
       "    </tr>\n",
       "    <tr>\n",
       "      <th>23</th>\n",
       "      <td>AISLIN</td>\n",
       "      <td>Polarized, UV Protection, Gradient Wayfarer, R...</td>\n",
       "      <td>₹1,125</td>\n",
       "    </tr>\n",
       "    <tr>\n",
       "      <th>24</th>\n",
       "      <td>Silver Kartz</td>\n",
       "      <td>UV Protection Wayfarer Sunglasses (Free Size)</td>\n",
       "      <td>₹246</td>\n",
       "    </tr>\n",
       "    <tr>\n",
       "      <th>25</th>\n",
       "      <td>Mi</td>\n",
       "      <td>Polarized Aviator Sunglasses (Free Size)</td>\n",
       "      <td>₹1,199</td>\n",
       "    </tr>\n",
       "    <tr>\n",
       "      <th>26</th>\n",
       "      <td>Urbanic</td>\n",
       "      <td>Others Retro Square Sunglasses (Free Size)</td>\n",
       "      <td>₹499</td>\n",
       "    </tr>\n",
       "    <tr>\n",
       "      <th>27</th>\n",
       "      <td>NuVew</td>\n",
       "      <td>UV Protection Retro Square, Wayfarer Sunglasse...</td>\n",
       "      <td>₹188</td>\n",
       "    </tr>\n",
       "    <tr>\n",
       "      <th>28</th>\n",
       "      <td>DEIXELS</td>\n",
       "      <td>UV Protection Aviator, Wayfarer Sunglasses (Fr...</td>\n",
       "      <td>₹229</td>\n",
       "    </tr>\n",
       "    <tr>\n",
       "      <th>29</th>\n",
       "      <td>maxa</td>\n",
       "      <td>UV Protection, Riding Glasses Rectangular, Way...</td>\n",
       "      <td>₹144</td>\n",
       "    </tr>\n",
       "    <tr>\n",
       "      <th>30</th>\n",
       "      <td>IDEE</td>\n",
       "      <td>UV Protection Wayfarer Sunglasses (55)</td>\n",
       "      <td>₹1,339</td>\n",
       "    </tr>\n",
       "    <tr>\n",
       "      <th>31</th>\n",
       "      <td>AISLIN</td>\n",
       "      <td>UV Protection, Gradient Cat-eye Sunglasses (61)</td>\n",
       "      <td>₹459</td>\n",
       "    </tr>\n",
       "    <tr>\n",
       "      <th>32</th>\n",
       "      <td>GANSTA</td>\n",
       "      <td>UV Protection, Riding Glasses Wayfarer Sunglas...</td>\n",
       "      <td>₹209</td>\n",
       "    </tr>\n",
       "    <tr>\n",
       "      <th>33</th>\n",
       "      <td>Billion</td>\n",
       "      <td>UV Protection Aviator Sunglasses (57)</td>\n",
       "      <td>₹224</td>\n",
       "    </tr>\n",
       "    <tr>\n",
       "      <th>34</th>\n",
       "      <td>HIPPON</td>\n",
       "      <td>UV Protection Wayfarer Sunglasses (55)</td>\n",
       "      <td>₹218</td>\n",
       "    </tr>\n",
       "    <tr>\n",
       "      <th>35</th>\n",
       "      <td>DEIXELS</td>\n",
       "      <td>UV Protection Rectangular Sunglasses (Free Size)</td>\n",
       "      <td>₹319</td>\n",
       "    </tr>\n",
       "    <tr>\n",
       "      <th>36</th>\n",
       "      <td>Singco</td>\n",
       "      <td>UV Protection Aviator Sunglasses (Free Size)</td>\n",
       "      <td>₹498</td>\n",
       "    </tr>\n",
       "    <tr>\n",
       "      <th>37</th>\n",
       "      <td>Fravy</td>\n",
       "      <td>UV Protection, Gradient, Night Vision Retro Sq...</td>\n",
       "      <td>₹245</td>\n",
       "    </tr>\n",
       "    <tr>\n",
       "      <th>38</th>\n",
       "      <td>Flizz</td>\n",
       "      <td>UV Protection, Polarized Rectangular Sunglasse...</td>\n",
       "      <td>₹244</td>\n",
       "    </tr>\n",
       "    <tr>\n",
       "      <th>39</th>\n",
       "      <td>ROZZETTA CRAFT</td>\n",
       "      <td>UV Protection Retro Square Sunglasses (Free Size)</td>\n",
       "      <td>₹325</td>\n",
       "    </tr>\n",
       "  </tbody>\n",
       "</table>\n",
       "</div>"
      ],
      "text/plain": [
       "                Brand                                        Description  \\\n",
       "0       VINCENT CHASE  by Lenskart Polarized, UV Protection Round Sun...   \n",
       "1      ROZZETTA CRAFT              Gradient Round Sunglasses (Free Size)   \n",
       "2            Fastrack      UV Protection Wayfarer Sunglasses (Free Size)   \n",
       "3              PIRASO              UV Protection Aviator Sunglasses (54)   \n",
       "4      kingsunglasses                UV Protection Round Sunglasses (54)   \n",
       "5           Elligator                UV Protection Round Sunglasses (54)   \n",
       "6                SRPM             UV Protection Wayfarer Sunglasses (56)   \n",
       "7             LAURELS             UV Protection Wayfarer Sunglasses (53)   \n",
       "8      ROZZETTA CRAFT  UV Protection, Gradient Rectangular Sunglasses...   \n",
       "9   SHAAH COLLECTIONS  UV Protection, Polarized, Mirrored Rectangular...   \n",
       "10         PHENOMENAL  UV Protection Retro Square Sunglasses (Free Size)   \n",
       "11     ROZZETTA CRAFT  UV Protection, Riding Glasses Rectangular Sung...   \n",
       "12          ROYAL SON          UV Protection Rectangular Sunglasses (58)   \n",
       "13             SUNBEE  UV Protection, Polarized, Mirrored Round Sungl...   \n",
       "14          New Specs  Mirrored, UV Protection, Riding Glasses, Other...   \n",
       "15      VINCENT CHASE  by Lenskart UV Protection Wayfarer Sunglasses ...   \n",
       "16          Rich Club                UV Protection Round Sunglasses (50)   \n",
       "17       Singco India  Gradient, Toughened Glass Lens, UV Protection ...   \n",
       "18               hipe  Mirrored, Gradient, UV Protection Aviator Sung...   \n",
       "19            VILLAIN         Others Retro Square Sunglasses (Free Size)   \n",
       "20              agera                   Gradient Aviator Sunglasses (55)   \n",
       "21         Lee Topper  Riding Glasses, Night Vision Wrap-around Sungl...   \n",
       "22            Johaena  Riding Glasses, UV Protection Oval Sunglasses ...   \n",
       "23             AISLIN  Polarized, UV Protection, Gradient Wayfarer, R...   \n",
       "24       Silver Kartz      UV Protection Wayfarer Sunglasses (Free Size)   \n",
       "25                 Mi           Polarized Aviator Sunglasses (Free Size)   \n",
       "26            Urbanic         Others Retro Square Sunglasses (Free Size)   \n",
       "27              NuVew  UV Protection Retro Square, Wayfarer Sunglasse...   \n",
       "28            DEIXELS  UV Protection Aviator, Wayfarer Sunglasses (Fr...   \n",
       "29               maxa  UV Protection, Riding Glasses Rectangular, Way...   \n",
       "30               IDEE             UV Protection Wayfarer Sunglasses (55)   \n",
       "31             AISLIN    UV Protection, Gradient Cat-eye Sunglasses (61)   \n",
       "32             GANSTA  UV Protection, Riding Glasses Wayfarer Sunglas...   \n",
       "33            Billion              UV Protection Aviator Sunglasses (57)   \n",
       "34             HIPPON             UV Protection Wayfarer Sunglasses (55)   \n",
       "35            DEIXELS   UV Protection Rectangular Sunglasses (Free Size)   \n",
       "36             Singco       UV Protection Aviator Sunglasses (Free Size)   \n",
       "37              Fravy  UV Protection, Gradient, Night Vision Retro Sq...   \n",
       "38              Flizz  UV Protection, Polarized Rectangular Sunglasse...   \n",
       "39     ROZZETTA CRAFT  UV Protection Retro Square Sunglasses (Free Size)   \n",
       "\n",
       "     Price  \n",
       "0   ₹1,179  \n",
       "1     ₹426  \n",
       "2     ₹759  \n",
       "3     ₹200  \n",
       "4     ₹188  \n",
       "5     ₹248  \n",
       "6     ₹198  \n",
       "7     ₹246  \n",
       "8     ₹383  \n",
       "9     ₹165  \n",
       "10    ₹309  \n",
       "11    ₹426  \n",
       "12    ₹449  \n",
       "13    ₹271  \n",
       "14    ₹262  \n",
       "15  ₹1,179  \n",
       "16    ₹355  \n",
       "17    ₹599  \n",
       "18    ₹178  \n",
       "19    ₹549  \n",
       "20    ₹196  \n",
       "21    ₹276  \n",
       "22    ₹156  \n",
       "23  ₹1,125  \n",
       "24    ₹246  \n",
       "25  ₹1,199  \n",
       "26    ₹499  \n",
       "27    ₹188  \n",
       "28    ₹229  \n",
       "29    ₹144  \n",
       "30  ₹1,339  \n",
       "31    ₹459  \n",
       "32    ₹209  \n",
       "33    ₹224  \n",
       "34    ₹218  \n",
       "35    ₹319  \n",
       "36    ₹498  \n",
       "37    ₹245  \n",
       "38    ₹244  \n",
       "39    ₹325  "
      ]
     },
     "execution_count": 243,
     "metadata": {},
     "output_type": "execute_result"
    }
   ],
   "source": [
    "SG=pd.DataFrame()\n",
    "SG['Brand']=brands\n",
    "SG['Description']=descriptions\n",
    "SG['Price']=Price\n",
    "SG[0:40]"
   ]
  },
  {
   "cell_type": "markdown",
   "id": "783d6b49",
   "metadata": {},
   "source": [
    "# Q.5"
   ]
  },
  {
   "cell_type": "code",
   "execution_count": 244,
   "id": "f45f400a",
   "metadata": {},
   "outputs": [],
   "source": [
    "driver=webdriver.Chrome(r'C:\\Users\\Lenovo\\Downloads\\chromedriver_win32\\chromedriver.exe')"
   ]
  },
  {
   "cell_type": "code",
   "execution_count": 245,
   "id": "fcb613d4",
   "metadata": {},
   "outputs": [],
   "source": [
    "url='https://www.flipkart.com/apple-iphone-11-black-64-gb-includes- earpods-power- adapter/p/itm0f37c2240b217?pid=MOBFKCTSVZAXUHGR&lid=LSTMOBFKC TSVZAXUHGREPBFGI&marketplace.'\n",
    "driver.get(url)"
   ]
  },
  {
   "cell_type": "code",
   "execution_count": 250,
   "id": "f9d3e6d1",
   "metadata": {},
   "outputs": [],
   "source": [
    "all_reviews=driver.find_elements_by_xpath('//span[@class=\"All 5879 reviews\"]')"
   ]
  },
  {
   "cell_type": "code",
   "execution_count": 251,
   "id": "f42a1ece",
   "metadata": {},
   "outputs": [
    {
     "ename": "AttributeError",
     "evalue": "'list' object has no attribute 'click'",
     "output_type": "error",
     "traceback": [
      "\u001b[1;31m---------------------------------------------------------------------------\u001b[0m",
      "\u001b[1;31mAttributeError\u001b[0m                            Traceback (most recent call last)",
      "\u001b[1;32m<ipython-input-251-7dc13014c883>\u001b[0m in \u001b[0;36m<module>\u001b[1;34m\u001b[0m\n\u001b[1;32m----> 1\u001b[1;33m \u001b[0mall_reviews\u001b[0m\u001b[1;33m.\u001b[0m\u001b[0mclick\u001b[0m\u001b[1;33m(\u001b[0m\u001b[1;33m)\u001b[0m\u001b[1;33m\u001b[0m\u001b[1;33m\u001b[0m\u001b[0m\n\u001b[0m",
      "\u001b[1;31mAttributeError\u001b[0m: 'list' object has no attribute 'click'"
     ]
    }
   ],
   "source": [
    "all_reviews.click()"
   ]
  },
  {
   "cell_type": "code",
   "execution_count": 255,
   "id": "a53762b8",
   "metadata": {},
   "outputs": [
    {
     "data": {
      "text/plain": [
       "10"
      ]
     },
     "execution_count": 255,
     "metadata": {},
     "output_type": "execute_result"
    }
   ],
   "source": [
    "rating=driver.find_elements_by_xpath('//div[@class=\"_3LWZlK _1BLPMq\"]')\n",
    "len(rating)"
   ]
  },
  {
   "cell_type": "code",
   "execution_count": 256,
   "id": "7ad37d53",
   "metadata": {},
   "outputs": [
    {
     "data": {
      "text/plain": [
       "['5', '5', '5', '5', '5', '5', '5', '4', '5', '5']"
      ]
     },
     "execution_count": 256,
     "metadata": {},
     "output_type": "execute_result"
    }
   ],
   "source": [
    "Ratings=[]\n",
    "for i in rating:\n",
    "    Ratings.append(i.text)\n",
    "len(Ratings)\n",
    "Ratings"
   ]
  },
  {
   "cell_type": "code",
   "execution_count": 257,
   "id": "1ccb2931",
   "metadata": {},
   "outputs": [
    {
     "data": {
      "text/plain": [
       "10"
      ]
     },
     "execution_count": 257,
     "metadata": {},
     "output_type": "execute_result"
    }
   ],
   "source": [
    "short_review=driver.find_elements_by_xpath('//p[@class=\"_2-N8zT\"]')\n",
    "len(short_review)"
   ]
  },
  {
   "cell_type": "code",
   "execution_count": 258,
   "id": "88bc5353",
   "metadata": {},
   "outputs": [
    {
     "data": {
      "text/plain": [
       "['Brilliant',\n",
       " 'Simply awesome',\n",
       " 'Perfect product!',\n",
       " 'Best in the market!',\n",
       " 'Worth every penny',\n",
       " 'Fabulous!',\n",
       " 'Great product',\n",
       " 'Good choice',\n",
       " 'Highly recommended',\n",
       " 'Worth every penny']"
      ]
     },
     "execution_count": 258,
     "metadata": {},
     "output_type": "execute_result"
    }
   ],
   "source": [
    "Short_Review=[]\n",
    "for i in short_review:\n",
    "    Short_Review.append(i.text)\n",
    "len(Short_Review)\n",
    "Short_Review"
   ]
  },
  {
   "cell_type": "code",
   "execution_count": 261,
   "id": "0da8f428",
   "metadata": {},
   "outputs": [
    {
     "data": {
      "text/plain": [
       "10"
      ]
     },
     "execution_count": 261,
     "metadata": {},
     "output_type": "execute_result"
    }
   ],
   "source": [
    "long_review=driver.find_elements_by_xpath('//div[@class=\"t-ZTKy\"]')\n",
    "len(long_review)"
   ]
  },
  {
   "cell_type": "code",
   "execution_count": 262,
   "id": "5771f00e",
   "metadata": {},
   "outputs": [
    {
     "data": {
      "text/plain": [
       "['The Best Phone for the Money\\n\\nThe iPhone 11 offers superb cameras, a more durable design and excellent battery life for an affordable price.\\n\\nCompelling ultra-wide camera\\nNew Night mode is excellent\\nLong battery life',\n",
       " 'Really satisfied with the Product I received... It’s totally genuine and the packaging was also really good so if ur planning to buy just go for it.',\n",
       " 'Amazing phone with great cameras and better battery which gives you the best performance. I just love the camera .',\n",
       " 'Great iPhone very snappy experience as apple kind. Upgraded from iPhone 7.\\nPros\\n-Camera top class\\n- Battery top performed\\n-Chipset no need to say as apple kind\\n-Security as you expect from apple\\n- Display super bright industry leading colour\\naccuracy and super responsive\\n-Build quality as expect from apple sturdy\\npremium durable beautiful stylish.\\n-Os most stable os in smartphone industry\\n\\nCons\\n-No 5G\\n-Display is not based on OLED technology\\n-Charger headphones and 1 apple stic...\\nREAD MORE',\n",
       " 'Previously I was using one plus 3t it was a great phone\\nAnd then I decided to upgrade I am stuck between Samsung s10 plus or iPhone 11\\nI have seen the specs and everything were good except the display it’s somewhere between 720-1080 and it’s not even an amoled it’s an LCD display\\nBut I decided to go with iPhone because I have never used an IOS device I have Been an android user from the past 9 years I ordered IPhone 11 (128gb) product red\\nMy experience after using 3 weeks\\n1. The delivery ...\\nREAD MORE',\n",
       " 'This is my first iOS phone. I am very happy with this product. Very much satisfied with this. I love this phone.',\n",
       " 'Amazing Powerful and Durable Gadget.\\n\\nI’m am very happy with the camera picture quality, Amazing face id unlocked in dark room, Strong battery with perfect screen size as you can carry easily in pocket. This is my third iPhone.\\n\\nI shifted from android Samsung Note series to iPhone because of the strong build quality and peace of mind for next 3-4 years.\\n\\nDon’t think to much just go for it and I suggest you to go for minimum 128gb variant or more 256gb.\\n\\nI’ve attached my puppy pics and no fi...\\nREAD MORE',\n",
       " 'So far it’s been an AMAZING experience coming back to iOS after nearly a decade but it’s not as versatile as android though phone is sturdy dropped it accidentally a couple of times and nothing happened fortunately camera is awesome',\n",
       " 'What a camera .....just awesome ..you can feel this iPhone just awesome . Good for gaming also ...try pubg in hd it’s just wow',\n",
       " 'i11 is worthy to buy, too much happy with the product. Thank u flipkart I received the item on time..loved it..']"
      ]
     },
     "execution_count": 262,
     "metadata": {},
     "output_type": "execute_result"
    }
   ],
   "source": [
    "Long_Review=[]\n",
    "for i in long_review:\n",
    "    Long_Review.append(i.text)\n",
    "len(Long_Review)\n",
    "Long_Review"
   ]
  },
  {
   "cell_type": "code",
   "execution_count": 263,
   "id": "6b76f53a",
   "metadata": {},
   "outputs": [
    {
     "data": {
      "text/html": [
       "<div>\n",
       "<style scoped>\n",
       "    .dataframe tbody tr th:only-of-type {\n",
       "        vertical-align: middle;\n",
       "    }\n",
       "\n",
       "    .dataframe tbody tr th {\n",
       "        vertical-align: top;\n",
       "    }\n",
       "\n",
       "    .dataframe thead th {\n",
       "        text-align: right;\n",
       "    }\n",
       "</style>\n",
       "<table border=\"1\" class=\"dataframe\">\n",
       "  <thead>\n",
       "    <tr style=\"text-align: right;\">\n",
       "      <th></th>\n",
       "      <th>Ratings</th>\n",
       "      <th>Review Summary</th>\n",
       "      <th>Full Review</th>\n",
       "    </tr>\n",
       "  </thead>\n",
       "  <tbody>\n",
       "    <tr>\n",
       "      <th>0</th>\n",
       "      <td>5</td>\n",
       "      <td>Brilliant</td>\n",
       "      <td>The Best Phone for the Money\\n\\nThe iPhone 11 ...</td>\n",
       "    </tr>\n",
       "    <tr>\n",
       "      <th>1</th>\n",
       "      <td>5</td>\n",
       "      <td>Simply awesome</td>\n",
       "      <td>Really satisfied with the Product I received.....</td>\n",
       "    </tr>\n",
       "    <tr>\n",
       "      <th>2</th>\n",
       "      <td>5</td>\n",
       "      <td>Perfect product!</td>\n",
       "      <td>Amazing phone with great cameras and better ba...</td>\n",
       "    </tr>\n",
       "    <tr>\n",
       "      <th>3</th>\n",
       "      <td>5</td>\n",
       "      <td>Best in the market!</td>\n",
       "      <td>Great iPhone very snappy experience as apple k...</td>\n",
       "    </tr>\n",
       "    <tr>\n",
       "      <th>4</th>\n",
       "      <td>5</td>\n",
       "      <td>Worth every penny</td>\n",
       "      <td>Previously I was using one plus 3t it was a gr...</td>\n",
       "    </tr>\n",
       "    <tr>\n",
       "      <th>5</th>\n",
       "      <td>5</td>\n",
       "      <td>Fabulous!</td>\n",
       "      <td>This is my first iOS phone. I am very happy wi...</td>\n",
       "    </tr>\n",
       "    <tr>\n",
       "      <th>6</th>\n",
       "      <td>5</td>\n",
       "      <td>Great product</td>\n",
       "      <td>Amazing Powerful and Durable Gadget.\\n\\nI’m am...</td>\n",
       "    </tr>\n",
       "    <tr>\n",
       "      <th>7</th>\n",
       "      <td>4</td>\n",
       "      <td>Good choice</td>\n",
       "      <td>So far it’s been an AMAZING experience coming ...</td>\n",
       "    </tr>\n",
       "    <tr>\n",
       "      <th>8</th>\n",
       "      <td>5</td>\n",
       "      <td>Highly recommended</td>\n",
       "      <td>What a camera .....just awesome ..you can feel...</td>\n",
       "    </tr>\n",
       "    <tr>\n",
       "      <th>9</th>\n",
       "      <td>5</td>\n",
       "      <td>Worth every penny</td>\n",
       "      <td>i11 is worthy to buy, too much happy with the ...</td>\n",
       "    </tr>\n",
       "  </tbody>\n",
       "</table>\n",
       "</div>"
      ],
      "text/plain": [
       "  Ratings       Review Summary  \\\n",
       "0       5            Brilliant   \n",
       "1       5       Simply awesome   \n",
       "2       5     Perfect product!   \n",
       "3       5  Best in the market!   \n",
       "4       5    Worth every penny   \n",
       "5       5            Fabulous!   \n",
       "6       5        Great product   \n",
       "7       4          Good choice   \n",
       "8       5   Highly recommended   \n",
       "9       5    Worth every penny   \n",
       "\n",
       "                                         Full Review  \n",
       "0  The Best Phone for the Money\\n\\nThe iPhone 11 ...  \n",
       "1  Really satisfied with the Product I received.....  \n",
       "2  Amazing phone with great cameras and better ba...  \n",
       "3  Great iPhone very snappy experience as apple k...  \n",
       "4  Previously I was using one plus 3t it was a gr...  \n",
       "5  This is my first iOS phone. I am very happy wi...  \n",
       "6  Amazing Powerful and Durable Gadget.\\n\\nI’m am...  \n",
       "7  So far it’s been an AMAZING experience coming ...  \n",
       "8  What a camera .....just awesome ..you can feel...  \n",
       "9  i11 is worthy to buy, too much happy with the ...  "
      ]
     },
     "execution_count": 263,
     "metadata": {},
     "output_type": "execute_result"
    }
   ],
   "source": [
    "Apple=pd.DataFrame()\n",
    "Apple['Ratings']= Ratings\n",
    "Apple['Review Summary']=Short_Review\n",
    "Apple['Full Review']=Long_Review\n",
    "Apple"
   ]
  },
  {
   "cell_type": "markdown",
   "id": "186fb545",
   "metadata": {},
   "source": [
    "# Q.6"
   ]
  },
  {
   "cell_type": "code",
   "execution_count": 264,
   "id": "12d577c9",
   "metadata": {},
   "outputs": [],
   "source": [
    "driver=webdriver.Chrome(r'C:\\Users\\Lenovo\\Downloads\\chromedriver_win32\\chromedriver.exe')"
   ]
  },
  {
   "cell_type": "code",
   "execution_count": 265,
   "id": "7036b33e",
   "metadata": {},
   "outputs": [],
   "source": [
    "url='https://www.flipkart.com/'\n",
    "driver.get(url)"
   ]
  },
  {
   "cell_type": "code",
   "execution_count": 271,
   "id": "dc497692",
   "metadata": {},
   "outputs": [
    {
     "data": {
      "text/plain": [
       "[<selenium.webdriver.remote.webelement.WebElement (session=\"a840383b29fe9da73e4c3f76aebfdb30\", element=\"75ad21e6-fe40-4428-991e-3f2ca6ab6cbc\")>]"
      ]
     },
     "execution_count": 271,
     "metadata": {},
     "output_type": "execute_result"
    }
   ],
   "source": [
    "search=driver.find_elements_by_xpath('//div[@class=\"col-12-12 _2oO9oE\"]')\n",
    "search"
   ]
  },
  {
   "cell_type": "code",
   "execution_count": 272,
   "id": "e441e16a",
   "metadata": {},
   "outputs": [
    {
     "ename": "AttributeError",
     "evalue": "'list' object has no attribute 'send_keys'",
     "output_type": "error",
     "traceback": [
      "\u001b[1;31m---------------------------------------------------------------------------\u001b[0m",
      "\u001b[1;31mAttributeError\u001b[0m                            Traceback (most recent call last)",
      "\u001b[1;32m<ipython-input-272-4e3844d7429b>\u001b[0m in \u001b[0;36m<module>\u001b[1;34m\u001b[0m\n\u001b[1;32m----> 1\u001b[1;33m \u001b[0msearch\u001b[0m\u001b[1;33m.\u001b[0m\u001b[0msend_keys\u001b[0m\u001b[1;33m(\u001b[0m\u001b[1;34m\"Sneakers\"\u001b[0m\u001b[1;33m)\u001b[0m\u001b[1;33m\u001b[0m\u001b[1;33m\u001b[0m\u001b[0m\n\u001b[0m",
      "\u001b[1;31mAttributeError\u001b[0m: 'list' object has no attribute 'send_keys'"
     ]
    }
   ],
   "source": [
    "search.send_keys(\"Sneakers\")"
   ]
  },
  {
   "cell_type": "code",
   "execution_count": 273,
   "id": "e99c937f",
   "metadata": {},
   "outputs": [
    {
     "data": {
      "text/plain": [
       "40"
      ]
     },
     "execution_count": 273,
     "metadata": {},
     "output_type": "execute_result"
    }
   ],
   "source": [
    "Brand=driver.find_elements_by_xpath('//div[@class=\"_2WkVRV\"]')\n",
    "len(Brand)"
   ]
  },
  {
   "cell_type": "code",
   "execution_count": 274,
   "id": "043ac57c",
   "metadata": {},
   "outputs": [
    {
     "data": {
      "text/plain": [
       "['DUNKASTON',\n",
       " 'RED TAPE',\n",
       " 'Magnolia',\n",
       " 'URBANBOX',\n",
       " 'Labbin',\n",
       " 'luxury fashion',\n",
       " 'Stefano Rads',\n",
       " 'RED TAPE',\n",
       " 'SCATCHITE',\n",
       " 'Numenzo',\n",
       " 'Shoes Bank',\n",
       " 'ERIX',\n",
       " 'BIRDE',\n",
       " 'ASTEROID',\n",
       " 'HOTSTYLE',\n",
       " 'BIRDE',\n",
       " 'Trendmode',\n",
       " 'Extoes',\n",
       " 'D-SNEAKERZ',\n",
       " 'BIRDE',\n",
       " 'ganpati traders',\n",
       " 'World Wear Footwear',\n",
       " 'Arohi',\n",
       " 'RED TAPE',\n",
       " 'RapidBox',\n",
       " 'Rzisbo',\n",
       " 'India hub',\n",
       " 'RED TAPE',\n",
       " 'TR',\n",
       " 'Kraasa',\n",
       " 'CLYMB',\n",
       " 'GOLDSTAR',\n",
       " 'Kraasa',\n",
       " 'Echor',\n",
       " 'ASTEROID',\n",
       " 'RED TAPE',\n",
       " 'ESSENCE',\n",
       " 'Robbie jones',\n",
       " 'Lee Won',\n",
       " 'Advick']"
      ]
     },
     "execution_count": 274,
     "metadata": {},
     "output_type": "execute_result"
    }
   ],
   "source": [
    "brand=[]\n",
    "for i in Brand:\n",
    "    brand.append(i.text)\n",
    "len(brand)\n",
    "brand"
   ]
  },
  {
   "cell_type": "code",
   "execution_count": 278,
   "id": "305e89f5",
   "metadata": {},
   "outputs": [
    {
     "data": {
      "text/plain": [
       "32"
      ]
     },
     "execution_count": 278,
     "metadata": {},
     "output_type": "execute_result"
    }
   ],
   "source": [
    "pd=driver.find_elements_by_xpath('//a[@class=\"IRpwTa\"]')\n",
    "len(pd)"
   ]
  },
  {
   "cell_type": "code",
   "execution_count": 279,
   "id": "70c0be74",
   "metadata": {},
   "outputs": [
    {
     "data": {
      "text/plain": [
       "['Sneakers For Men',\n",
       " 'Classic Sneakers For Men',\n",
       " 'Sneakers For Men',\n",
       " 'Sneakers For Men',\n",
       " 'Luxury Fashionable casual sneaker shoes Sneakers For Me...',\n",
       " 'Sneakers For Men',\n",
       " 'Sneakers Sneakers For Men',\n",
       " '411 Casual Sneakers For Men',\n",
       " \"White Sneaker For Men's/Boy's Sneakers For Men\",\n",
       " 'men and boys Fashion black and red color Outdoor Canvas...',\n",
       " 'Sports Running Shoes Sneakers For Men',\n",
       " \"Original Luxury Branded Fashionable Men's Casual Walkin...\",\n",
       " 'Sneakers For Men',\n",
       " 'Trendy Combo Pack of 2 Casual Shoes Sneakers For Men',\n",
       " 'Sneakers For Men',\n",
       " 'Modern Trendy Shoes Combo pack of 4 Sneakers For Men',\n",
       " \"Casual , Partywear Sneakers Shoes For Men's And Boys Wh...\",\n",
       " 'Combo Pack of 2 Casual Shoes Sneakers For Men',\n",
       " 'Latest Collection-1216 Stylish Casual Sports Sneakers F...',\n",
       " 'Sneakers For Men',\n",
       " 'Sneakers For Men',\n",
       " 'Sneakers For Men',\n",
       " 'Sneakers For Men',\n",
       " 'Series 7 Sneakers For Men',\n",
       " 'Sneakers For Men',\n",
       " 'Shark-41 Sneakers For Men',\n",
       " \"Men's Sneakers Fashion Lightweight Running Shoes Tennis...\",\n",
       " \"Original Luxury Branded Fashionable Men's Casual Walkin...\",\n",
       " 'Classic Sneakers For Men',\n",
       " 'Sneakers For Men',\n",
       " 'Sneakers For Men',\n",
       " 'Sneakers For Men']"
      ]
     },
     "execution_count": 279,
     "metadata": {},
     "output_type": "execute_result"
    }
   ],
   "source": [
    "PD=[]\n",
    "for i in pd:\n",
    "    PD.append(i.text)\n",
    "len(PD)\n",
    "PD"
   ]
  },
  {
   "cell_type": "code",
   "execution_count": 281,
   "id": "4f998a77",
   "metadata": {},
   "outputs": [
    {
     "data": {
      "text/plain": [
       "40"
      ]
     },
     "execution_count": 281,
     "metadata": {},
     "output_type": "execute_result"
    }
   ],
   "source": [
    "p=driver.find_elements_by_xpath('//div[@class=\"_30jeq3\"]')\n",
    "len(p)"
   ]
  },
  {
   "cell_type": "code",
   "execution_count": 282,
   "id": "a46a0045",
   "metadata": {},
   "outputs": [
    {
     "data": {
      "text/plain": [
       "['₹374',\n",
       " '₹1,678',\n",
       " '₹398',\n",
       " '₹220',\n",
       " '₹499',\n",
       " '₹449',\n",
       " '₹242',\n",
       " '₹1,258',\n",
       " '₹398',\n",
       " '₹426',\n",
       " '₹345',\n",
       " '₹499',\n",
       " '₹299',\n",
       " '₹499',\n",
       " '₹298',\n",
       " '₹424',\n",
       " '₹359',\n",
       " '₹948',\n",
       " '₹348',\n",
       " '₹535',\n",
       " '₹189',\n",
       " '₹199',\n",
       " '₹398',\n",
       " '₹1,258',\n",
       " '₹640',\n",
       " '₹549',\n",
       " '₹449',\n",
       " '₹1,648',\n",
       " '₹599',\n",
       " '₹444',\n",
       " '₹649',\n",
       " '₹399',\n",
       " '₹444',\n",
       " '₹499',\n",
       " '₹499',\n",
       " '₹1,678',\n",
       " '₹399',\n",
       " '₹474',\n",
       " '₹299',\n",
       " '₹828']"
      ]
     },
     "execution_count": 282,
     "metadata": {},
     "output_type": "execute_result"
    }
   ],
   "source": [
    "Price=[]\n",
    "for i in p:\n",
    "    Price.append(i.text)\n",
    "len(Price)\n",
    "Price"
   ]
  },
  {
   "cell_type": "code",
   "execution_count": 284,
   "id": "5dfc75e4",
   "metadata": {},
   "outputs": [
    {
     "ename": "AttributeError",
     "evalue": "'list' object has no attribute 'DataFrame'",
     "output_type": "error",
     "traceback": [
      "\u001b[1;31m---------------------------------------------------------------------------\u001b[0m",
      "\u001b[1;31mAttributeError\u001b[0m                            Traceback (most recent call last)",
      "\u001b[1;32m<ipython-input-284-567072b9a335>\u001b[0m in \u001b[0;36m<module>\u001b[1;34m\u001b[0m\n\u001b[1;32m----> 1\u001b[1;33m \u001b[0mSneakers\u001b[0m\u001b[1;33m=\u001b[0m\u001b[0mpd\u001b[0m\u001b[1;33m.\u001b[0m\u001b[0mDataFrame\u001b[0m\u001b[1;33m(\u001b[0m\u001b[1;33m)\u001b[0m\u001b[1;33m\u001b[0m\u001b[1;33m\u001b[0m\u001b[0m\n\u001b[0m\u001b[0;32m      2\u001b[0m \u001b[0mSneakers\u001b[0m\u001b[1;33m[\u001b[0m\u001b[1;34m'Brand name'\u001b[0m\u001b[1;33m]\u001b[0m\u001b[1;33m=\u001b[0m \u001b[0mbrand\u001b[0m\u001b[1;33m\u001b[0m\u001b[1;33m\u001b[0m\u001b[0m\n\u001b[0;32m      3\u001b[0m \u001b[0mSneakers\u001b[0m\u001b[1;33m[\u001b[0m\u001b[1;34m'Product Description'\u001b[0m\u001b[1;33m]\u001b[0m\u001b[1;33m=\u001b[0m\u001b[0mPD\u001b[0m\u001b[1;33m\u001b[0m\u001b[1;33m\u001b[0m\u001b[0m\n\u001b[0;32m      4\u001b[0m \u001b[0mSneakers\u001b[0m\u001b[1;33m[\u001b[0m\u001b[1;34m'Price'\u001b[0m\u001b[1;33m]\u001b[0m\u001b[1;33m=\u001b[0m\u001b[0mPrice\u001b[0m\u001b[1;33m\u001b[0m\u001b[1;33m\u001b[0m\u001b[0m\n\u001b[0;32m      5\u001b[0m \u001b[0mSneakers\u001b[0m\u001b[1;33m\u001b[0m\u001b[1;33m\u001b[0m\u001b[0m\n",
      "\u001b[1;31mAttributeError\u001b[0m: 'list' object has no attribute 'DataFrame'"
     ]
    }
   ],
   "source": [
    "Sneakers=pd.DataFrame()\n",
    "Sneakers['Brand name']= brand\n",
    "Sneakers['Product Description']=PD\n",
    "Sneakers['Price']=Price\n",
    "Sneakers"
   ]
  },
  {
   "cell_type": "markdown",
   "id": "e5f139e8",
   "metadata": {},
   "source": [
    "#### Here the length is not matching thats why data frame is not made"
   ]
  },
  {
   "cell_type": "code",
   "execution_count": null,
   "id": "547c1ea3",
   "metadata": {},
   "outputs": [],
   "source": []
  },
  {
   "cell_type": "markdown",
   "id": "4479a7b8",
   "metadata": {},
   "source": [
    "# Q.7"
   ]
  },
  {
   "cell_type": "code",
   "execution_count": 285,
   "id": "3ac93299",
   "metadata": {},
   "outputs": [],
   "source": [
    "driver=webdriver.Chrome(r'C:\\Users\\Lenovo\\Downloads\\chromedriver_win32\\chromedriver.exe')"
   ]
  },
  {
   "cell_type": "code",
   "execution_count": 286,
   "id": "948f7c94",
   "metadata": {},
   "outputs": [],
   "source": [
    "url='https://www.myntra.com/shoes'\n",
    "driver.get(url)"
   ]
  },
  {
   "cell_type": "code",
   "execution_count": 287,
   "id": "f4a4aee4",
   "metadata": {},
   "outputs": [],
   "source": [
    "price_check=driver.find_element_by_xpath('/html/body/div[2]/div/div[1]/main/div[3]/div[1]/section/div/div[5]/ul/li[2]/label/div')\n",
    "price_check.click()"
   ]
  },
  {
   "cell_type": "code",
   "execution_count": 288,
   "id": "39effc64",
   "metadata": {},
   "outputs": [],
   "source": [
    "colour_check=driver.find_element_by_xpath('/html/body/div[2]/div/div[1]/main/div[3]/div[1]/section/div/div[6]/ul/li[1]/label/div')\n",
    "colour_check.click()"
   ]
  },
  {
   "cell_type": "code",
   "execution_count": 290,
   "id": "7bb9c421",
   "metadata": {},
   "outputs": [
    {
     "data": {
      "text/plain": [
       "50"
      ]
     },
     "execution_count": 290,
     "metadata": {},
     "output_type": "execute_result"
    }
   ],
   "source": [
    "b=driver.find_elements_by_xpath('//h3[@class=\"product-brand\"]')\n",
    "len(b)"
   ]
  },
  {
   "cell_type": "code",
   "execution_count": 291,
   "id": "1f674a6a",
   "metadata": {},
   "outputs": [
    {
     "data": {
      "text/plain": [
       "['Puma',\n",
       " 'Puma',\n",
       " 'Saint G',\n",
       " 'Delize',\n",
       " 'Delize',\n",
       " 'ROSSO BRUNELLO',\n",
       " 'Skechers',\n",
       " 'DAVINCHI',\n",
       " 'Delize',\n",
       " 'ASICS',\n",
       " 'Bugatti',\n",
       " 'Bugatti',\n",
       " 'Saint G',\n",
       " 'RARE RABBIT',\n",
       " 'Delize',\n",
       " 'Delize',\n",
       " 'Delize',\n",
       " 'Delize',\n",
       " 'Geox',\n",
       " 'Bugatti',\n",
       " 'J.FONTINI',\n",
       " 'J.FONTINI',\n",
       " 'RARE RABBIT',\n",
       " 'Saint G',\n",
       " 'Delize',\n",
       " 'Saint G',\n",
       " 'Heel & Buckle London',\n",
       " 'Saint G',\n",
       " 'Saint G',\n",
       " 'Delize',\n",
       " 'Delize',\n",
       " 'Saint G',\n",
       " 'Geox',\n",
       " 'Columbia',\n",
       " 'Columbia',\n",
       " 'Delize',\n",
       " 'Delize',\n",
       " 'Xtep',\n",
       " 'J.FONTINI',\n",
       " 'Delize',\n",
       " 'Delize',\n",
       " 'Geox',\n",
       " 'DAVINCHI',\n",
       " 'DAVINCHI',\n",
       " 'Nike',\n",
       " 'DAVINCHI',\n",
       " 'Delize',\n",
       " 'Pavers England',\n",
       " 'DAVINCHI',\n",
       " 'Geox']"
      ]
     },
     "execution_count": 291,
     "metadata": {},
     "output_type": "execute_result"
    }
   ],
   "source": [
    "brand=[]\n",
    "for i in b:\n",
    "    brand.append(i.text)\n",
    "len(brand)\n",
    "brand"
   ]
  },
  {
   "cell_type": "code",
   "execution_count": 292,
   "id": "e3957954",
   "metadata": {},
   "outputs": [
    {
     "data": {
      "text/plain": [
       "50"
      ]
     },
     "execution_count": 292,
     "metadata": {},
     "output_type": "execute_result"
    }
   ],
   "source": [
    "d=driver.find_elements_by_xpath('//h4[@class=\"product-product\"]')\n",
    "len(d)"
   ]
  },
  {
   "cell_type": "code",
   "execution_count": 293,
   "id": "d33f245d",
   "metadata": {},
   "outputs": [
    {
     "data": {
      "text/plain": [
       "['Men Running Shoes',\n",
       " 'Men Magnify Nitro Running',\n",
       " 'Men Mid-Top Chelsea Boots',\n",
       " 'Block Heeled Boots',\n",
       " 'Party High-Top Platform Heeled Boots',\n",
       " 'Men Textured Formal Loafers',\n",
       " 'Men UNO 2 Sneakers',\n",
       " 'Men Textured Formal Leather Loafers',\n",
       " 'Leather Party High-Top Block Heeled Boots',\n",
       " 'Men Colourblocked PU Sneakers',\n",
       " 'Men Running Shoes',\n",
       " 'Men Black Walking Shoes',\n",
       " 'Men Leather Chelsea Boots',\n",
       " 'Men Leather Flat Boots',\n",
       " 'High-Top Block Heeled Boots',\n",
       " 'High-Top Block Heeled Boots',\n",
       " 'Block Heeled Boots',\n",
       " 'High-Top Block Heeled Boots',\n",
       " 'Men Leather Flat Boots',\n",
       " 'Men Textured Leather High-Top Flat Boots',\n",
       " 'Men Textured Leather Loafers',\n",
       " 'Men Textured Leather Loafers',\n",
       " 'Men Textured Leather Loafers',\n",
       " 'Women Leather Loafers',\n",
       " 'Leather Block Heeled Boots',\n",
       " 'Leather Knee High Slouch Boots',\n",
       " 'Men Formal Leather Derby',\n",
       " 'Leather Wedge Heeled Boots with Buckles',\n",
       " 'Women Leather Heeled Boots',\n",
       " 'Men Flat Boots',\n",
       " 'Women Heeled Boots',\n",
       " 'Suede Party High-Top Block Heeled Boots',\n",
       " 'Women Leather Pumps',\n",
       " 'Women REDMOND V2 TrekkingShoe',\n",
       " 'PEAKFREAK OUTDRY Trekking Shoe',\n",
       " 'High-Top Block Heeled Boots',\n",
       " 'Women Leather Flat Boots',\n",
       " 'Men Running Shoes',\n",
       " 'Men Black Leather Loafers',\n",
       " 'Men Derby Flat Boots',\n",
       " 'Men Leather Flat Boots',\n",
       " 'Men Leather Loafers',\n",
       " 'Men Formal Leather Slip-Ons',\n",
       " 'Ustraa black',\n",
       " 'Men PF Basketball Shoes',\n",
       " 'Men Solid Leather Formal Derbys',\n",
       " 'Men Colourblocked Sneakers',\n",
       " 'Men Leather Driving Shoes',\n",
       " 'Men Textured Formal Leather Loafers',\n",
       " 'Women Solid Leather Pumps']"
      ]
     },
     "execution_count": 293,
     "metadata": {},
     "output_type": "execute_result"
    }
   ],
   "source": [
    "description=[]\n",
    "for i in d:\n",
    "    description.append(i.text)\n",
    "len(description)\n",
    "description"
   ]
  },
  {
   "cell_type": "code",
   "execution_count": 296,
   "id": "118d4076",
   "metadata": {},
   "outputs": [
    {
     "data": {
      "text/plain": [
       "50"
      ]
     },
     "execution_count": 296,
     "metadata": {},
     "output_type": "execute_result"
    }
   ],
   "source": [
    "p=driver.find_elements_by_xpath('//div[@class=\"product-price\"]')\n",
    "len(p)"
   ]
  },
  {
   "cell_type": "code",
   "execution_count": 297,
   "id": "ce1be526",
   "metadata": {},
   "outputs": [
    {
     "data": {
      "text/plain": [
       "['Rs. 7149Rs. 12999(45% OFF)',\n",
       " 'Rs. 7799Rs. 12999(40% OFF)',\n",
       " 'Rs. 9265Rs. 10900(15% OFF)',\n",
       " 'Rs. 9999',\n",
       " 'Rs. 9999',\n",
       " 'Rs. 10999',\n",
       " 'Rs. 7499',\n",
       " 'Rs. 8990',\n",
       " 'Rs. 9999',\n",
       " 'Rs. 9999',\n",
       " 'Rs. 7999Rs. 9999(20% OFF)',\n",
       " 'Rs. 7199Rs. 8999(20% OFF)',\n",
       " 'Rs. 10115Rs. 11900(15% OFF)',\n",
       " 'Rs. 7999Rs. 9999(20% OFF)',\n",
       " 'Rs. 9999',\n",
       " 'Rs. 9999',\n",
       " 'Rs. 9999',\n",
       " 'Rs. 9999',\n",
       " 'Rs. 8399Rs. 11999(30% OFF)',\n",
       " 'Rs. 8399Rs. 11999(30% OFF)',\n",
       " 'Rs. 7990',\n",
       " 'Rs. 7990',\n",
       " 'Rs. 7149Rs. 10999(35% OFF)',\n",
       " 'Rs. 7500Rs. 9500(Rs. 2000 OFF)',\n",
       " 'Rs. 9999',\n",
       " 'Rs. 13175Rs. 15500(15% OFF)',\n",
       " 'Rs. 7990',\n",
       " 'Rs. 12665Rs. 14900(15% OFF)',\n",
       " 'Rs. 12665Rs. 14900(15% OFF)',\n",
       " 'Rs. 8099',\n",
       " 'Rs. 8099',\n",
       " 'Rs. 8925Rs. 10500(15% OFF)',\n",
       " 'Rs. 8999',\n",
       " 'Rs. 7999',\n",
       " 'Rs. 9999',\n",
       " 'Rs. 9999',\n",
       " 'Rs. 8099',\n",
       " 'Rs. 7699',\n",
       " 'Rs. 8490',\n",
       " 'Rs. 8099',\n",
       " 'Rs. 8099',\n",
       " 'Rs. 9999',\n",
       " 'Rs. 8990',\n",
       " 'Rs. 8990',\n",
       " 'Rs. 9295',\n",
       " 'Rs. 8990',\n",
       " 'Rs. 7599',\n",
       " 'Rs. 7499',\n",
       " 'Rs. 8990',\n",
       " 'Rs. 7999']"
      ]
     },
     "execution_count": 297,
     "metadata": {},
     "output_type": "execute_result"
    }
   ],
   "source": [
    "price=[]\n",
    "for i in p:\n",
    "    price.append(i.text)\n",
    "len(price)\n",
    "price"
   ]
  },
  {
   "cell_type": "code",
   "execution_count": 300,
   "id": "d356138f",
   "metadata": {},
   "outputs": [
    {
     "data": {
      "text/plain": [
       "(50, 50, 50)"
      ]
     },
     "execution_count": 300,
     "metadata": {},
     "output_type": "execute_result"
    }
   ],
   "source": [
    "len(brand),len(description),len(price)"
   ]
  },
  {
   "cell_type": "code",
   "execution_count": 312,
   "id": "d68e4c60",
   "metadata": {},
   "outputs": [
    {
     "ename": "AttributeError",
     "evalue": "'list' object has no attribute 'DataFrame'",
     "output_type": "error",
     "traceback": [
      "\u001b[1;31m---------------------------------------------------------------------------\u001b[0m",
      "\u001b[1;31mAttributeError\u001b[0m                            Traceback (most recent call last)",
      "\u001b[1;32m<ipython-input-312-9884d6c62b7a>\u001b[0m in \u001b[0;36m<module>\u001b[1;34m\u001b[0m\n\u001b[1;32m----> 1\u001b[1;33m \u001b[0mShoes\u001b[0m\u001b[1;33m=\u001b[0m\u001b[0mpd\u001b[0m\u001b[1;33m.\u001b[0m\u001b[0mDataFrame\u001b[0m\u001b[1;33m(\u001b[0m\u001b[1;33m)\u001b[0m\u001b[1;33m\u001b[0m\u001b[1;33m\u001b[0m\u001b[0m\n\u001b[0m\u001b[0;32m      2\u001b[0m \u001b[0mShoes\u001b[0m\u001b[1;33m[\u001b[0m\u001b[1;34m'Brand'\u001b[0m\u001b[1;33m]\u001b[0m\u001b[1;33m=\u001b[0m\u001b[0mbrand\u001b[0m\u001b[1;33m\u001b[0m\u001b[1;33m\u001b[0m\u001b[0m\n\u001b[0;32m      3\u001b[0m \u001b[0mShoes\u001b[0m\u001b[1;33m[\u001b[0m\u001b[1;34m'Description'\u001b[0m\u001b[1;33m]\u001b[0m\u001b[1;33m=\u001b[0m\u001b[0mdescription\u001b[0m\u001b[1;33m\u001b[0m\u001b[1;33m\u001b[0m\u001b[0m\n\u001b[0;32m      4\u001b[0m \u001b[0mShoes\u001b[0m\u001b[1;33m[\u001b[0m\u001b[1;34m'Price'\u001b[0m\u001b[1;33m]\u001b[0m\u001b[1;33m=\u001b[0m\u001b[0mprice\u001b[0m\u001b[1;33m\u001b[0m\u001b[1;33m\u001b[0m\u001b[0m\n\u001b[0;32m      5\u001b[0m \u001b[0mShoes\u001b[0m\u001b[1;33m\u001b[0m\u001b[1;33m\u001b[0m\u001b[0m\n",
      "\u001b[1;31mAttributeError\u001b[0m: 'list' object has no attribute 'DataFrame'"
     ]
    }
   ],
   "source": [
    "Shoes=pd.DataFrame()\n",
    "Shoes['Brand']=brand\n",
    "Shoes['Description']=description\n",
    "Shoes['Price']=price\n",
    "Shoes"
   ]
  },
  {
   "cell_type": "markdown",
   "id": "00b5ecdc",
   "metadata": {},
   "source": [
    "#### Tried many times but data frame code is not running."
   ]
  },
  {
   "cell_type": "markdown",
   "id": "0fde815d",
   "metadata": {},
   "source": [
    "# Q.8"
   ]
  },
  {
   "cell_type": "code",
   "execution_count": 327,
   "id": "18786bf6",
   "metadata": {},
   "outputs": [],
   "source": [
    "driver=webdriver.Chrome(r'C:\\Users\\Lenovo\\Downloads\\chromedriver_win32\\chromedriver.exe')"
   ]
  },
  {
   "cell_type": "code",
   "execution_count": 328,
   "id": "1112e1b0",
   "metadata": {},
   "outputs": [],
   "source": [
    "url='https://www.amazon.in/'\n",
    "driver.get(url)"
   ]
  },
  {
   "cell_type": "code",
   "execution_count": 329,
   "id": "44cee608",
   "metadata": {},
   "outputs": [
    {
     "data": {
      "text/plain": [
       "<selenium.webdriver.remote.webelement.WebElement (session=\"cbf2a3a05f9bfa1746bb30a011058b6c\", element=\"bc2eaa7e-f1b9-4726-a2dd-e72d3b66ee0e\")>"
      ]
     },
     "execution_count": 329,
     "metadata": {},
     "output_type": "execute_result"
    }
   ],
   "source": [
    "search=driver.find_element_by_id(\"twotabsearchtextbox\")\n",
    "search"
   ]
  },
  {
   "cell_type": "code",
   "execution_count": 330,
   "id": "38e685ef",
   "metadata": {},
   "outputs": [],
   "source": [
    "search.send_keys('laptop')"
   ]
  },
  {
   "cell_type": "code",
   "execution_count": 331,
   "id": "8ff02380",
   "metadata": {},
   "outputs": [
    {
     "data": {
      "text/plain": [
       "<selenium.webdriver.remote.webelement.WebElement (session=\"cbf2a3a05f9bfa1746bb30a011058b6c\", element=\"dd53955b-7caf-4f5f-b44f-918a61011351\")>"
      ]
     },
     "execution_count": 331,
     "metadata": {},
     "output_type": "execute_result"
    }
   ],
   "source": [
    "search_btn=driver.find_element_by_xpath('/html/body/div[1]/header/div/div[1]/div[2]/div/form/div[3]/div/span/input')\n",
    "search_btn"
   ]
  },
  {
   "cell_type": "code",
   "execution_count": 332,
   "id": "c2bb4662",
   "metadata": {},
   "outputs": [],
   "source": [
    "search_btn.click()"
   ]
  },
  {
   "cell_type": "code",
   "execution_count": 333,
   "id": "08609296",
   "metadata": {},
   "outputs": [],
   "source": [
    "check=driver.find_element_by_xpath('/html/body/div[1]/div[2]/div[1]/div[2]/div/div[3]/span/div[1]/span/div/div/div[6]/div/div/div[1]/div/span[2]/a/span')\n",
    "check.click()"
   ]
  },
  {
   "cell_type": "code",
   "execution_count": 334,
   "id": "2736f339",
   "metadata": {},
   "outputs": [],
   "source": [
    "i7=driver.find_element_by_xpath('/html/body/div[1]/div[2]/div[1]/div[2]/div/div[3]/span/div[1]/span/div/div/div[6]/div/div/div[1]/div/span[1]/a[13]/div/span')\n",
    "i7.click()"
   ]
  },
  {
   "cell_type": "markdown",
   "id": "f280c840",
   "metadata": {},
   "source": [
    "#### Here I am not understanding how to add code for i9 laptops"
   ]
  },
  {
   "cell_type": "code",
   "execution_count": 336,
   "id": "1edefaf4",
   "metadata": {},
   "outputs": [
    {
     "data": {
      "text/plain": [
       "30"
      ]
     },
     "execution_count": 336,
     "metadata": {},
     "output_type": "execute_result"
    }
   ],
   "source": [
    "t=driver.find_elements_by_xpath('//span[@class=\"a-size-medium a-color-base a-text-normal\"]')\n",
    "len(t)"
   ]
  },
  {
   "cell_type": "code",
   "execution_count": 337,
   "id": "2bd267a1",
   "metadata": {},
   "outputs": [
    {
     "data": {
      "text/plain": [
       "['ASUS VivoBook 14 (2021), 14-inch (35.56 cms) FHD, Intel Core i7-1065G7 10th Gen, Thin and Light Laptop (16GB/512GB SSD/Integrated Graphics/Office 2021/Windows 11/Silver/1.6 Kg), X415JA-EK701WS',\n",
       " 'LG Gram 17-inches Ultra-Light Intel Evo 11th Gen Core i7,16 GB RAM, 512 GB SSD, New Win-11 Preload, Iris Xe Graphics, USC -C x 2 (with Power), 1.35 kg, 3 Yr Warranty (17Z90P-G.AH85A2, Black)',\n",
       " 'Mi Notebook Horizon Edition 14 Intel Core i7-10510U 10th Gen Thin and Light Laptop(8GB/512GB SSD/Windows 10/Nvidia MX350 2GB Graphics/Grey/1.35Kg)(Without Webcam) XMA1904-AF',\n",
       " 'LG Gram 17-inches Ultra-Light Intel Evo 11th Gen Core i7,16 GB RAM, 512 GB SSD, New Win-11 Preload, Iris Xe Graphics, USC -C x 2 (with Power), 1.35 kg, 3 Yr Warranty (17Z90P-G.AH85A2, Black)',\n",
       " 'Lenovo ThinkBook 13s Intel 11th Gen Core i7 13.3\"(33.78 cm) WQXGA IPS 300 nits 100% sRGB Dolby Vision Thin and Light Laptop (16GB/512GB SSD/Windows 10/MS Office/FPR/Mineral Grey/1.26 Kg), 20V9A05FIH',\n",
       " 'ASUS TUF Dash F15 (2021), 15.6-inch (39.62 cms) FHD 144Hz, Intel Core i7-11370H 11th Gen, RTX 3050 4GB Graphics Gaming Laptop (16GB RAM/512GB SSD/Windows 10/White/2 kg), FX516PC-HN062T',\n",
       " 'ASUS TUF Dash F15 (2021) 15.6-inch (39.62 cms) FHD 144Hz, Intel Core i7-11370H 11th Gen, RTX 3050 Ti 4GB Graphics, Gaming Laptop (16GB/1TB SSD/Office 2019/Windows 10/Gray/2 Kg), FX516PEZ-HN105TS',\n",
       " 'Acer Nitro 5 AN515-57 Gaming Laptop | Intel Core i7-11800H |NVIDIA GeForce RTX 3050 Ti Laptop Graphics |15.6\" FHD 144Hz IPS Display |16GB DDR4 |256GB SSD+1TB HDD |Killer Wi-Fi 6 |RGB Backlit Keyboard',\n",
       " 'LG Gram 14 Ultralight Intel Evo 11th Gen Core i7,16 GB RAM, 512 GB SSD, Win-10, Iris Xe Graphics, 14-inches (35.56 cms), Thunderbolt 4, USC -Cx2 (with Power), 999 Grams, 3 Yr Warranty (14Z90P, Black)',\n",
       " 'ASUS TUF Dash F15 (2021) 15.6-inch (39.62 cms) FHD 144Hz, Intel Core i7-11370H 11th Gen, RTX 3060 6GB Graphics, Gaming Laptop (16GB/512GB SSD/Office 2019/Windows 10/Gray/2 Kg), FX516PM-HN175TS',\n",
       " 'ASUS TUF Dash F15 (2021), 15.6\" (39.62 cms) FHD 144Hz, Intel Core i7-11370H 11th Gen, RTX 3050 Ti 4GB Graphics, Gaming Laptop (16GB/1TB SSD/Office 2019/Windows 10/Eclipse Gray/2 kg), FX516PE-HN088TS',\n",
       " 'ASUS VivoBook 14 (2021), 14-inch (35.56 cms) FHD, Intel Core i7-1065G7 10th Gen, Thin and Light Laptop (16GB/512GB SSD/Integrated Graphics/Office 2021/Windows 11/Silver/1.6 Kg), X415JA-EK701WS',\n",
       " 'MSI GF75 Thin Gaming, Intel i7-10750H, 17.3\" (43.9 cm) FHD IPS-Level 144Hz Panel Laptop (8GB/512GB NVMe SSD/Windows 10 Home/Nvidia GTX1650 4GB GDDR6/Black/2.2Kg), 10SCXR-654IN',\n",
       " 'ASUS ZenBook 14 (2020) Intel Core i7-1165G7 11th Gen 14 inches FHD Business Laptop (16GB/512GB SSD/Office 2019/Windows 10 Home/Iris Xe Graphics/Pine Grey/1.17 kg), UX425EA-KI701TS',\n",
       " 'Mi Notebook Horizon Edition 14 Intel Core i7-10510U 10th Gen Thin and Light Laptop(8GB/512GB SSD/Windows 10/Nvidia MX350 2GB Graphics/Grey/1.35Kg)(Without Webcam) XMA1904-AF',\n",
       " 'LG Gram 16-inches Ultra-Light Intel Evo 11th Gen Core i7,16 GB RAM, 512 GB SSD, New Win-11 Preload, Iris Xe Graphics, USC -C x 2 (with Power), 1.19 kg, 3 Yr Warranty (16Z90P-G.AH85A2, Black)',\n",
       " 'HP Pavilion 13, 11th Gen Intel Core i7, 13.3-inch(33.8 cm) FHD,IPS, Micro-Edge Laptop (16GB RAM/ 1TB SSD/ Win 10/ FPR/Audio B&O/Alexa Built-in/MS Office/ Ceramic White/ 1.24 Kg) -13-bb0078TU',\n",
       " 'HP Pavilion 14, Intel 11th Gen Core i7 16GB RAM/1TB SSD 14-inch Laptop, FHD Micro-Edge Anti-Glare Display/Iris Xᵉ Graphics/Backlit KB/B&O Audio/Fingerprint Reader/ Win 11 Ready/1.41kg, 14-dv0058TU',\n",
       " 'Lenovo ThinkBook Yoga 14s Intel Core i7 11th Gen 14\"(35.56cm) FHD IPS 300 nits 100% sRGB Dolby Vision 2-in-1 Touchscreen Laptop (16GB RAM/512GB SSD/Windows 10/MS Office/Active Pen/1.50 kg) 20WEA01EIH',\n",
       " 'ASUS Vivobook X515JA-EJ701WS Intel Core I7-1065G7 15.6 inches FHD 512 GB SSD /16 GB/Windows 11/Office 2019/1Y (Transparent Silver, 2 kg)',\n",
       " 'ASUS ZenBook Duo 14 (2021), Intel Evo Core i7-1165G7 11th Gen 14 inches FHD Dual-Screen 16GB/1TB SSD/Iris Xe Graphics/Office 2019/Windows 10 Business Touch Laptop (Celestial Blue/1.57 Kg), UX482EA-HY777TS',\n",
       " 'Dell 14 (2021) i7-1195G7 2in1 Touch Screen Laptop, 16GB, 512GB SSD, Win 10 + MS Office, 14.0\" (35.56 cms) FHD Display, Backlit KB, FPR + Active Pen, Platinum Silver (Inspiron 5410, D560596WIN9S)',\n",
       " 'ASUS ZenBook 14e (2021), 14.0-inch (35.56 cms) FHD Intel Core i7-1165G7 11th Gen, Thin and Light Laptop (16GB/1TB SSD/Office 2019/Windows 10/2GB NVIDIA MX450 Graphics/Grey/1.29 kg), UX435EG-KK701TS',\n",
       " '(Renewed) ASUS TUF Gaming F15 (2021) 15.6-inch (39.62 cms) FHD 144Hz, Intel Core i7-11800H 11th Gen, RTX 3060 6GB Graphics, Gaming Laptop (16GB/1TB SSD/Windows 10/Gray/2.3 Kg), FX566HM-HN100T',\n",
       " 'ASUS TUF Gaming F15 (2021) 15.6-inch (39.62 cms) FHD 144Hz, Intel Core i7-11800H 11th Gen, RTX 3060 6GB Graphics, Gaming Laptop (16GB/1TB SSD/Windows 10/Gray/2.3 Kg), FX566HM-HN100T',\n",
       " 'Acer Nitro 5 AN515-57 Gaming Laptop | Intel Core i7-11800H |NVIDIA GeForce RTX 3050 Laptop Graphics |15.6\" FHD 144Hz IPS Display |8GB DDR4 | 256GB SSD+1TB HDD | Killer Wi-Fi 6 | RGB Backlit Keyboard',\n",
       " 'ASUS TUF Gaming F15 (2021) 15.6-inch (39.62 cms) FHD 144Hz, Intel Core i7-11800H 11th Gen, RTX 3050 Ti 4GB Graphics, Gaming Laptop (16GB/1TB SSD/Windows 10/Gray/2.3 Kg), FX566HEB-HN248T',\n",
       " 'Lenovo Legion 5 11th Gen Intel Core i7 15.6\"(39.62cm) FHD IPS Gaming Laptop (16GB/512GB SSD/NVIDIA RTX 3050 4GB/120Hz Refresh Rate/Windows 10/MS Office/Backlit Keyboard/Phantom Blue/2.4Kg), 82JK007WIN',\n",
       " 'Acer Nitro 5 11th Gen Intel Core i5-11400H 15.6\" (39.62cms) FHD 144Hz Gaming Laptop (8 GB/512GB SSD/Win 10/4 GB Graphics/NVIDIA GeForce GTX 1650/Shale Black, 2.2 kg/RGB Backlit Keyboard) AN515-57',\n",
       " 'Dell 14 (2021) Inspiron 5410 Intel i7-1165G7 14 inches 16Gb RAM, 512Gb SSD, FHD Display, Windows 10 + MSO, Backlit KB + FPR + Active Pen, 2in1 Touch Screen Laptop - Silver Metal, 1.5 kg, D560469WIN9S']"
      ]
     },
     "execution_count": 337,
     "metadata": {},
     "output_type": "execute_result"
    }
   ],
   "source": [
    "title=[]\n",
    "for i in t:\n",
    "    title.append(i.text)\n",
    "len(title)\n",
    "title"
   ]
  },
  {
   "cell_type": "code",
   "execution_count": 365,
   "id": "975f35d8",
   "metadata": {},
   "outputs": [
    {
     "data": {
      "text/plain": [
       "30"
      ]
     },
     "execution_count": 365,
     "metadata": {},
     "output_type": "execute_result"
    }
   ],
   "source": [
    "r=driver.find_elements_by_xpath('//span[@class=\"a-icon-alt\"]')\n",
    "len(r)"
   ]
  },
  {
   "cell_type": "code",
   "execution_count": 366,
   "id": "6df93291",
   "metadata": {},
   "outputs": [
    {
     "data": {
      "text/plain": [
       "['',\n",
       " '',\n",
       " '',\n",
       " '',\n",
       " '',\n",
       " '',\n",
       " '',\n",
       " '',\n",
       " '',\n",
       " '',\n",
       " '',\n",
       " '',\n",
       " '',\n",
       " '',\n",
       " '',\n",
       " '',\n",
       " '',\n",
       " '',\n",
       " '',\n",
       " '',\n",
       " '',\n",
       " '',\n",
       " '',\n",
       " '',\n",
       " '',\n",
       " '',\n",
       " '',\n",
       " '',\n",
       " '',\n",
       " '']"
      ]
     },
     "execution_count": 366,
     "metadata": {},
     "output_type": "execute_result"
    }
   ],
   "source": [
    "rating=[]\n",
    "for i in r:\n",
    "    rating.append(i.text)\n",
    "len(rating)\n",
    "rating"
   ]
  },
  {
   "cell_type": "code",
   "execution_count": 369,
   "id": "a3daf09b",
   "metadata": {},
   "outputs": [
    {
     "data": {
      "text/plain": [
       "28"
      ]
     },
     "execution_count": 369,
     "metadata": {},
     "output_type": "execute_result"
    }
   ],
   "source": [
    "p=driver.find_elements_by_xpath('//span[@class=\"a-price-whole\"]')\n",
    "len(p)"
   ]
  },
  {
   "cell_type": "code",
   "execution_count": 370,
   "id": "67486e43",
   "metadata": {},
   "outputs": [
    {
     "data": {
      "text/plain": [
       "['59,990',\n",
       " '94,999',\n",
       " '49,990',\n",
       " '94,999',\n",
       " '79,990',\n",
       " '84,990',\n",
       " '90,990',\n",
       " '89,490',\n",
       " '84,990',\n",
       " '1,09,990',\n",
       " '90,990',\n",
       " '59,990',\n",
       " '69,990',\n",
       " '89,745',\n",
       " '49,990',\n",
       " '90,999',\n",
       " '87,990',\n",
       " '89,984',\n",
       " '65,935',\n",
       " '1,19,769',\n",
       " '99,990',\n",
       " '97,742',\n",
       " '1,14,990',\n",
       " '88,490',\n",
       " '96,990',\n",
       " '1,00,990',\n",
       " '69,990',\n",
       " '93,990']"
      ]
     },
     "execution_count": 370,
     "metadata": {},
     "output_type": "execute_result"
    }
   ],
   "source": [
    "price=[]\n",
    "for i in p:\n",
    "    price.append(i.text)\n",
    "len(price)\n",
    "price"
   ]
  },
  {
   "cell_type": "code",
   "execution_count": 371,
   "id": "dfa4e1dd",
   "metadata": {},
   "outputs": [
    {
     "data": {
      "text/plain": [
       "(30, 30, 28)"
      ]
     },
     "execution_count": 371,
     "metadata": {},
     "output_type": "execute_result"
    }
   ],
   "source": [
    "len(title),len(rating),len(price)"
   ]
  },
  {
   "cell_type": "markdown",
   "id": "715310ac",
   "metadata": {},
   "source": [
    "#### Length is not same...fault in code...data frame is not possible"
   ]
  },
  {
   "cell_type": "code",
   "execution_count": null,
   "id": "9c24fba2",
   "metadata": {},
   "outputs": [],
   "source": []
  },
  {
   "cell_type": "markdown",
   "id": "d979716a",
   "metadata": {},
   "source": [
    "# Q.9"
   ]
  },
  {
   "cell_type": "code",
   "execution_count": 372,
   "id": "116ce82e",
   "metadata": {},
   "outputs": [],
   "source": [
    "driver=webdriver.Chrome(r'C:\\Users\\Lenovo\\Downloads\\chromedriver_win32\\chromedriver.exe')"
   ]
  },
  {
   "cell_type": "code",
   "execution_count": 373,
   "id": "192e9abf",
   "metadata": {},
   "outputs": [],
   "source": [
    "url='https://www.ambitionbox.com/'\n",
    "driver.get(url)"
   ]
  },
  {
   "cell_type": "code",
   "execution_count": 375,
   "id": "104276da",
   "metadata": {},
   "outputs": [],
   "source": [
    "jobs=driver.find_element_by_xpath('/html/body/div[1]/nav/nav/a[6]')\n",
    "jobs.click()"
   ]
  },
  {
   "cell_type": "code",
   "execution_count": 376,
   "id": "79b641d9",
   "metadata": {},
   "outputs": [
    {
     "data": {
      "text/plain": [
       "<selenium.webdriver.remote.webelement.WebElement (session=\"4197a4e01bfaae6fd9b03ce7d1619c24\", element=\"95c3c360-d68d-4546-9379-adef763e9dd1\")>"
      ]
     },
     "execution_count": 376,
     "metadata": {},
     "output_type": "execute_result"
    }
   ],
   "source": [
    "search=driver.find_element_by_xpath('/html/body/div/div/div/div[2]/div[1]/div/div/div/div/span/input')\n",
    "search"
   ]
  },
  {
   "cell_type": "code",
   "execution_count": 377,
   "id": "641da572",
   "metadata": {},
   "outputs": [],
   "source": [
    "search.send_keys(\"Data Scientist\")"
   ]
  },
  {
   "cell_type": "code",
   "execution_count": 378,
   "id": "aa16ead6",
   "metadata": {},
   "outputs": [
    {
     "data": {
      "text/plain": [
       "<selenium.webdriver.remote.webelement.WebElement (session=\"4197a4e01bfaae6fd9b03ce7d1619c24\", element=\"9c60aec9-7a88-4ea8-b6fe-231dd7c4f2cd\")>"
      ]
     },
     "execution_count": 378,
     "metadata": {},
     "output_type": "execute_result"
    }
   ],
   "source": [
    "search_btn=driver.find_element_by_xpath('/html/body/div/div/div/div[2]/div[1]/div/div/div/button/span')\n",
    "search_btn"
   ]
  },
  {
   "cell_type": "code",
   "execution_count": 379,
   "id": "93c62eb0",
   "metadata": {},
   "outputs": [],
   "source": [
    "search_btn.click()"
   ]
  },
  {
   "cell_type": "code",
   "execution_count": 380,
   "id": "959c0cee",
   "metadata": {},
   "outputs": [
    {
     "data": {
      "text/plain": [
       "<selenium.webdriver.remote.webelement.WebElement (session=\"4197a4e01bfaae6fd9b03ce7d1619c24\", element=\"d336b5f3-da3a-47f3-a448-f7839e9c6853\")>"
      ]
     },
     "execution_count": 380,
     "metadata": {},
     "output_type": "execute_result"
    }
   ],
   "source": [
    "location=driver.find_element_by_xpath('/html/body/div/div/div/div[2]/div[2]/div[1]/div/div/div/div[2]/div[1]/i')\n",
    "location"
   ]
  },
  {
   "cell_type": "code",
   "execution_count": 381,
   "id": "fccf4026",
   "metadata": {},
   "outputs": [],
   "source": [
    "location.click()"
   ]
  },
  {
   "cell_type": "code",
   "execution_count": 382,
   "id": "81218bf4",
   "metadata": {},
   "outputs": [
    {
     "data": {
      "text/plain": [
       "<selenium.webdriver.remote.webelement.WebElement (session=\"4197a4e01bfaae6fd9b03ce7d1619c24\", element=\"560881c7-f354-4c54-bb41-6bc80f7ba2c4\")>"
      ]
     },
     "execution_count": 382,
     "metadata": {},
     "output_type": "execute_result"
    }
   ],
   "source": [
    "noida=driver.find_element_by_xpath('/html/body/div/div/div/div[2]/div[2]/div[1]/div/div/div/div[2]/div[2]/div/div[3]/div[1]/div[8]/div/label')\n",
    "noida"
   ]
  },
  {
   "cell_type": "code",
   "execution_count": 383,
   "id": "789ce474",
   "metadata": {},
   "outputs": [],
   "source": [
    "noida.click()"
   ]
  },
  {
   "cell_type": "code",
   "execution_count": 387,
   "id": "d295e1f5",
   "metadata": {},
   "outputs": [
    {
     "data": {
      "text/plain": [
       "10"
      ]
     },
     "execution_count": 387,
     "metadata": {},
     "output_type": "execute_result"
    }
   ],
   "source": [
    "cn=driver.find_elements_by_xpath('//p[@class=\"company body-medium\"]')\n",
    "len(cn)"
   ]
  },
  {
   "cell_type": "code",
   "execution_count": 388,
   "id": "e93b608f",
   "metadata": {},
   "outputs": [
    {
     "data": {
      "text/plain": [
       "['HCL',\n",
       " 'Jubilant Foodworks Limited',\n",
       " 'Ameriprise Financial',\n",
       " 'Paytm',\n",
       " 'CHT Sapiense',\n",
       " 'CHT Sapiense',\n",
       " 'GI Group',\n",
       " 'GI Group',\n",
       " 'GI Group',\n",
       " 'Cargoflash']"
      ]
     },
     "execution_count": 388,
     "metadata": {},
     "output_type": "execute_result"
    }
   ],
   "source": [
    "company=[]\n",
    "for i in cn:\n",
    "    company.append(i.text)\n",
    "len(company)\n",
    "company"
   ]
  },
  {
   "cell_type": "code",
   "execution_count": 394,
   "id": "40a9f34f",
   "metadata": {},
   "outputs": [
    {
     "data": {
      "text/plain": [
       "20"
      ]
     },
     "execution_count": 394,
     "metadata": {},
     "output_type": "execute_result"
    }
   ],
   "source": [
    "da=driver.find_elements_by_xpath('//span[@class=\"body-small-l\"]')\n",
    "len(da)"
   ]
  },
  {
   "cell_type": "code",
   "execution_count": 390,
   "id": "9d2fe68c",
   "metadata": {},
   "outputs": [
    {
     "data": {
      "text/plain": [
       "['2d ago',\n",
       " 'via hirist.com',\n",
       " '2d ago',\n",
       " 'via naukri.com',\n",
       " '4d ago',\n",
       " 'via naukri.com',\n",
       " '10d ago',\n",
       " 'via naukri.com',\n",
       " '11d ago',\n",
       " 'via iimjobs.com',\n",
       " '12d ago',\n",
       " 'via iimjobs.com',\n",
       " '23d ago',\n",
       " 'via iimjobs.com',\n",
       " '23d ago',\n",
       " 'via iimjobs.com',\n",
       " '23d ago',\n",
       " 'via iimjobs.com',\n",
       " '1d ago',\n",
       " 'via hirist.com']"
      ]
     },
     "execution_count": 390,
     "metadata": {},
     "output_type": "execute_result"
    }
   ],
   "source": [
    "daysago=[]\n",
    "for i in da:\n",
    "    daysago.append(i.text)\n",
    "len(daysago)\n",
    "daysago"
   ]
  },
  {
   "cell_type": "code",
   "execution_count": 425,
   "id": "acc9be16",
   "metadata": {},
   "outputs": [
    {
     "data": {
      "text/plain": [
       "['2d ago',\n",
       " '2d ago',\n",
       " '4d ago',\n",
       " '10d ago',\n",
       " '11d ago',\n",
       " '12d ago',\n",
       " '23d ago',\n",
       " '23d ago',\n",
       " '23d ago',\n",
       " '1d ago']"
      ]
     },
     "execution_count": 425,
     "metadata": {},
     "output_type": "execute_result"
    }
   ],
   "source": [
    "daysago[::2]"
   ]
  },
  {
   "cell_type": "code",
   "execution_count": 430,
   "id": "7ec8c2f1",
   "metadata": {},
   "outputs": [
    {
     "data": {
      "text/plain": [
       "10"
      ]
     },
     "execution_count": 430,
     "metadata": {},
     "output_type": "execute_result"
    }
   ],
   "source": [
    "r=driver.find_elements_by_xpath('//span[@class=\"body-small\"]')\n",
    "len(r)"
   ]
  },
  {
   "cell_type": "code",
   "execution_count": 431,
   "id": "c991e05f",
   "metadata": {},
   "outputs": [
    {
     "data": {
      "text/plain": [
       "['3.8', '3.9', '4.0', '3.7', '3.8', '3.8', '4.1', '4.1', '4.1', '3.8']"
      ]
     },
     "execution_count": 431,
     "metadata": {},
     "output_type": "execute_result"
    }
   ],
   "source": [
    "rating=[]\n",
    "for i in r:\n",
    "    rating.append(i.text)\n",
    "len(rating)\n",
    "rating"
   ]
  },
  {
   "cell_type": "code",
   "execution_count": 412,
   "id": "aee88d35",
   "metadata": {},
   "outputs": [],
   "source": [
    "import pandas as pd"
   ]
  },
  {
   "cell_type": "code",
   "execution_count": 423,
   "id": "9d5b4e7d",
   "metadata": {},
   "outputs": [
    {
     "ename": "ValueError",
     "evalue": "Length of values (20) does not match length of index (10)",
     "output_type": "error",
     "traceback": [
      "\u001b[1;31m---------------------------------------------------------------------------\u001b[0m",
      "\u001b[1;31mValueError\u001b[0m                                Traceback (most recent call last)",
      "\u001b[1;32m<ipython-input-423-81724a50aaf4>\u001b[0m in \u001b[0;36m<module>\u001b[1;34m\u001b[0m\n\u001b[0;32m      1\u001b[0m \u001b[0mjobs\u001b[0m\u001b[1;33m=\u001b[0m\u001b[0mpd\u001b[0m\u001b[1;33m.\u001b[0m\u001b[0mDataFrame\u001b[0m\u001b[1;33m(\u001b[0m\u001b[1;33m)\u001b[0m\u001b[1;33m\u001b[0m\u001b[1;33m\u001b[0m\u001b[0m\n\u001b[0;32m      2\u001b[0m \u001b[0mjobs\u001b[0m\u001b[1;33m[\u001b[0m\u001b[1;34m'Company Name'\u001b[0m\u001b[1;33m]\u001b[0m\u001b[1;33m=\u001b[0m \u001b[0mcompany\u001b[0m\u001b[1;33m\u001b[0m\u001b[1;33m\u001b[0m\u001b[0m\n\u001b[1;32m----> 3\u001b[1;33m \u001b[0mjobs\u001b[0m\u001b[1;33m[\u001b[0m\u001b[1;34m'Posted days ago'\u001b[0m\u001b[1;33m]\u001b[0m\u001b[1;33m=\u001b[0m\u001b[0mdaysago\u001b[0m\u001b[1;33m\u001b[0m\u001b[1;33m\u001b[0m\u001b[0m\n\u001b[0m\u001b[0;32m      4\u001b[0m \u001b[0mjobs\u001b[0m\u001b[1;33m[\u001b[0m\u001b[1;34m'Rating'\u001b[0m\u001b[1;33m]\u001b[0m\u001b[1;33m=\u001b[0m\u001b[0mrating\u001b[0m\u001b[1;33m\u001b[0m\u001b[1;33m\u001b[0m\u001b[0m\n\u001b[0;32m      5\u001b[0m \u001b[0mjobs\u001b[0m\u001b[1;33m\u001b[0m\u001b[1;33m\u001b[0m\u001b[0m\n",
      "\u001b[1;32mC:\\ProgramData\\Anaconda3\\lib\\site-packages\\pandas\\core\\frame.py\u001b[0m in \u001b[0;36m__setitem__\u001b[1;34m(self, key, value)\u001b[0m\n\u001b[0;32m   3161\u001b[0m         \u001b[1;32melse\u001b[0m\u001b[1;33m:\u001b[0m\u001b[1;33m\u001b[0m\u001b[1;33m\u001b[0m\u001b[0m\n\u001b[0;32m   3162\u001b[0m             \u001b[1;31m# set column\u001b[0m\u001b[1;33m\u001b[0m\u001b[1;33m\u001b[0m\u001b[1;33m\u001b[0m\u001b[0m\n\u001b[1;32m-> 3163\u001b[1;33m             \u001b[0mself\u001b[0m\u001b[1;33m.\u001b[0m\u001b[0m_set_item\u001b[0m\u001b[1;33m(\u001b[0m\u001b[0mkey\u001b[0m\u001b[1;33m,\u001b[0m \u001b[0mvalue\u001b[0m\u001b[1;33m)\u001b[0m\u001b[1;33m\u001b[0m\u001b[1;33m\u001b[0m\u001b[0m\n\u001b[0m\u001b[0;32m   3164\u001b[0m \u001b[1;33m\u001b[0m\u001b[0m\n\u001b[0;32m   3165\u001b[0m     \u001b[1;32mdef\u001b[0m \u001b[0m_setitem_slice\u001b[0m\u001b[1;33m(\u001b[0m\u001b[0mself\u001b[0m\u001b[1;33m,\u001b[0m \u001b[0mkey\u001b[0m\u001b[1;33m:\u001b[0m \u001b[0mslice\u001b[0m\u001b[1;33m,\u001b[0m \u001b[0mvalue\u001b[0m\u001b[1;33m)\u001b[0m\u001b[1;33m:\u001b[0m\u001b[1;33m\u001b[0m\u001b[1;33m\u001b[0m\u001b[0m\n",
      "\u001b[1;32mC:\\ProgramData\\Anaconda3\\lib\\site-packages\\pandas\\core\\frame.py\u001b[0m in \u001b[0;36m_set_item\u001b[1;34m(self, key, value)\u001b[0m\n\u001b[0;32m   3240\u001b[0m         \"\"\"\n\u001b[0;32m   3241\u001b[0m         \u001b[0mself\u001b[0m\u001b[1;33m.\u001b[0m\u001b[0m_ensure_valid_index\u001b[0m\u001b[1;33m(\u001b[0m\u001b[0mvalue\u001b[0m\u001b[1;33m)\u001b[0m\u001b[1;33m\u001b[0m\u001b[1;33m\u001b[0m\u001b[0m\n\u001b[1;32m-> 3242\u001b[1;33m         \u001b[0mvalue\u001b[0m \u001b[1;33m=\u001b[0m \u001b[0mself\u001b[0m\u001b[1;33m.\u001b[0m\u001b[0m_sanitize_column\u001b[0m\u001b[1;33m(\u001b[0m\u001b[0mkey\u001b[0m\u001b[1;33m,\u001b[0m \u001b[0mvalue\u001b[0m\u001b[1;33m)\u001b[0m\u001b[1;33m\u001b[0m\u001b[1;33m\u001b[0m\u001b[0m\n\u001b[0m\u001b[0;32m   3243\u001b[0m         \u001b[0mNDFrame\u001b[0m\u001b[1;33m.\u001b[0m\u001b[0m_set_item\u001b[0m\u001b[1;33m(\u001b[0m\u001b[0mself\u001b[0m\u001b[1;33m,\u001b[0m \u001b[0mkey\u001b[0m\u001b[1;33m,\u001b[0m \u001b[0mvalue\u001b[0m\u001b[1;33m)\u001b[0m\u001b[1;33m\u001b[0m\u001b[1;33m\u001b[0m\u001b[0m\n\u001b[0;32m   3244\u001b[0m \u001b[1;33m\u001b[0m\u001b[0m\n",
      "\u001b[1;32mC:\\ProgramData\\Anaconda3\\lib\\site-packages\\pandas\\core\\frame.py\u001b[0m in \u001b[0;36m_sanitize_column\u001b[1;34m(self, key, value, broadcast)\u001b[0m\n\u001b[0;32m   3897\u001b[0m \u001b[1;33m\u001b[0m\u001b[0m\n\u001b[0;32m   3898\u001b[0m             \u001b[1;31m# turn me into an ndarray\u001b[0m\u001b[1;33m\u001b[0m\u001b[1;33m\u001b[0m\u001b[1;33m\u001b[0m\u001b[0m\n\u001b[1;32m-> 3899\u001b[1;33m             \u001b[0mvalue\u001b[0m \u001b[1;33m=\u001b[0m \u001b[0msanitize_index\u001b[0m\u001b[1;33m(\u001b[0m\u001b[0mvalue\u001b[0m\u001b[1;33m,\u001b[0m \u001b[0mself\u001b[0m\u001b[1;33m.\u001b[0m\u001b[0mindex\u001b[0m\u001b[1;33m)\u001b[0m\u001b[1;33m\u001b[0m\u001b[1;33m\u001b[0m\u001b[0m\n\u001b[0m\u001b[0;32m   3900\u001b[0m             \u001b[1;32mif\u001b[0m \u001b[1;32mnot\u001b[0m \u001b[0misinstance\u001b[0m\u001b[1;33m(\u001b[0m\u001b[0mvalue\u001b[0m\u001b[1;33m,\u001b[0m \u001b[1;33m(\u001b[0m\u001b[0mnp\u001b[0m\u001b[1;33m.\u001b[0m\u001b[0mndarray\u001b[0m\u001b[1;33m,\u001b[0m \u001b[0mIndex\u001b[0m\u001b[1;33m)\u001b[0m\u001b[1;33m)\u001b[0m\u001b[1;33m:\u001b[0m\u001b[1;33m\u001b[0m\u001b[1;33m\u001b[0m\u001b[0m\n\u001b[0;32m   3901\u001b[0m                 \u001b[1;32mif\u001b[0m \u001b[0misinstance\u001b[0m\u001b[1;33m(\u001b[0m\u001b[0mvalue\u001b[0m\u001b[1;33m,\u001b[0m \u001b[0mlist\u001b[0m\u001b[1;33m)\u001b[0m \u001b[1;32mand\u001b[0m \u001b[0mlen\u001b[0m\u001b[1;33m(\u001b[0m\u001b[0mvalue\u001b[0m\u001b[1;33m)\u001b[0m \u001b[1;33m>\u001b[0m \u001b[1;36m0\u001b[0m\u001b[1;33m:\u001b[0m\u001b[1;33m\u001b[0m\u001b[1;33m\u001b[0m\u001b[0m\n",
      "\u001b[1;32mC:\\ProgramData\\Anaconda3\\lib\\site-packages\\pandas\\core\\internals\\construction.py\u001b[0m in \u001b[0;36msanitize_index\u001b[1;34m(data, index)\u001b[0m\n\u001b[0;32m    749\u001b[0m     \"\"\"\n\u001b[0;32m    750\u001b[0m     \u001b[1;32mif\u001b[0m \u001b[0mlen\u001b[0m\u001b[1;33m(\u001b[0m\u001b[0mdata\u001b[0m\u001b[1;33m)\u001b[0m \u001b[1;33m!=\u001b[0m \u001b[0mlen\u001b[0m\u001b[1;33m(\u001b[0m\u001b[0mindex\u001b[0m\u001b[1;33m)\u001b[0m\u001b[1;33m:\u001b[0m\u001b[1;33m\u001b[0m\u001b[1;33m\u001b[0m\u001b[0m\n\u001b[1;32m--> 751\u001b[1;33m         raise ValueError(\n\u001b[0m\u001b[0;32m    752\u001b[0m             \u001b[1;34m\"Length of values \"\u001b[0m\u001b[1;33m\u001b[0m\u001b[1;33m\u001b[0m\u001b[0m\n\u001b[0;32m    753\u001b[0m             \u001b[1;34mf\"({len(data)}) \"\u001b[0m\u001b[1;33m\u001b[0m\u001b[1;33m\u001b[0m\u001b[0m\n",
      "\u001b[1;31mValueError\u001b[0m: Length of values (20) does not match length of index (10)"
     ]
    }
   ],
   "source": [
    "jobs=pd.DataFrame()\n",
    "jobs['Company Name']= company\n",
    "jobs['Posted days ago']=daysago\n",
    "jobs['Rating']=rating\n",
    "jobs"
   ]
  },
  {
   "cell_type": "markdown",
   "id": "d499f40a",
   "metadata": {},
   "source": [
    "#### Variable reassignment is not getting (how to do that)"
   ]
  },
  {
   "cell_type": "markdown",
   "id": "732d0d18",
   "metadata": {},
   "source": [
    "# Q.10"
   ]
  },
  {
   "cell_type": "code",
   "execution_count": 433,
   "id": "22e958df",
   "metadata": {},
   "outputs": [],
   "source": [
    "driver=webdriver.Chrome(r'C:\\Users\\Lenovo\\Downloads\\chromedriver_win32\\chromedriver.exe')"
   ]
  },
  {
   "cell_type": "code",
   "execution_count": 434,
   "id": "badc00a6",
   "metadata": {},
   "outputs": [],
   "source": [
    "url='https://www.ambitionbox.com/'\n",
    "driver.get(url)"
   ]
  },
  {
   "cell_type": "code",
   "execution_count": 435,
   "id": "88239515",
   "metadata": {},
   "outputs": [],
   "source": [
    "salaries=driver.find_element_by_xpath('/html/body/div[1]/nav/nav/a[4]')\n",
    "salaries.click()"
   ]
  },
  {
   "cell_type": "code",
   "execution_count": 441,
   "id": "88e75ead",
   "metadata": {},
   "outputs": [
    {
     "data": {
      "text/plain": [
       "<selenium.webdriver.remote.webelement.WebElement (session=\"27127a0d9f44da89b0e48e881b94a542\", element=\"9eec7e0f-f5fc-421b-bc94-6ffc6780917c\")>"
      ]
     },
     "execution_count": 441,
     "metadata": {},
     "output_type": "execute_result"
    }
   ],
   "source": [
    "search=driver.find_element_by_id(\"jobProfileSearchbox\")\n",
    "search"
   ]
  },
  {
   "cell_type": "code",
   "execution_count": 444,
   "id": "6039274d",
   "metadata": {},
   "outputs": [],
   "source": [
    "search.send_keys(\"Data Scientist\")"
   ]
  },
  {
   "cell_type": "code",
   "execution_count": 447,
   "id": "4fb3cdca",
   "metadata": {},
   "outputs": [
    {
     "data": {
      "text/plain": [
       "10"
      ]
     },
     "execution_count": 447,
     "metadata": {},
     "output_type": "execute_result"
    }
   ],
   "source": [
    "cn=driver.find_elements_by_xpath('//div[@class=\"name\"]')\n",
    "len(cn)"
   ]
  },
  {
   "cell_type": "code",
   "execution_count": 449,
   "id": "3814ec47",
   "metadata": {},
   "outputs": [
    {
     "data": {
      "text/plain": [
       "['Walmart\\nbased on 10 salaries',\n",
       " 'Ab Inbev\\nbased on 22 salaries',\n",
       " 'ZS\\nbased on 14 salaries',\n",
       " 'Fractal Analytics\\nbased on 72 salaries',\n",
       " 'Optum\\nbased on 23 salaries',\n",
       " 'UnitedHealth\\nbased on 49 salaries',\n",
       " 'Tiger Analytics\\nbased on 27 salaries',\n",
       " 'Verizon\\nbased on 14 salaries',\n",
       " 'Ganit Business Solutions\\nbased on 13 salaries',\n",
       " 'Ericsson\\nbased on 42 salaries']"
      ]
     },
     "execution_count": 449,
     "metadata": {},
     "output_type": "execute_result"
    }
   ],
   "source": [
    "company_name=[]\n",
    "for i in cn:\n",
    "    company_name.append(i.text)\n",
    "len(company_name)\n",
    "company_name"
   ]
  },
  {
   "cell_type": "code",
   "execution_count": 450,
   "id": "1df4de2d",
   "metadata": {},
   "outputs": [
    {
     "data": {
      "text/plain": [
       "10"
      ]
     },
     "execution_count": 450,
     "metadata": {},
     "output_type": "execute_result"
    }
   ],
   "source": [
    "exp=driver.find_elements_by_xpath('//div[@class=\"salaries sbold-list-header\"]')\n",
    "len(exp)"
   ]
  },
  {
   "cell_type": "code",
   "execution_count": 451,
   "id": "034a7753",
   "metadata": {},
   "outputs": [
    {
     "data": {
      "text/plain": [
       "['Data Scientist\\n . \\n3 yrs exp',\n",
       " 'Data Scientist\\n . \\n3-4 yrs exp',\n",
       " 'Data Scientist\\n . \\n2 yrs exp',\n",
       " 'Data Scientist\\n . \\n2-4 yrs exp',\n",
       " 'Data Scientist\\n . \\n3-4 yrs exp',\n",
       " 'Data Scientist\\n . \\n2-4 yrs exp',\n",
       " 'Data Scientist\\n . \\n3-4 yrs exp',\n",
       " 'Data Scientist\\n . \\n4 yrs exp',\n",
       " 'Data Scientist\\n . \\n4 yrs exp',\n",
       " 'Data Scientist\\n . \\n3-4 yrs exp']"
      ]
     },
     "execution_count": 451,
     "metadata": {},
     "output_type": "execute_result"
    }
   ],
   "source": [
    "experience=[]\n",
    "for i in exp:\n",
    "    experience.append(i.text)\n",
    "len(experience)\n",
    "experience"
   ]
  },
  {
   "cell_type": "code",
   "execution_count": 452,
   "id": "4d3c0ecf",
   "metadata": {},
   "outputs": [
    {
     "data": {
      "text/plain": [
       "10"
      ]
     },
     "execution_count": 452,
     "metadata": {},
     "output_type": "execute_result"
    }
   ],
   "source": [
    "avg=driver.find_elements_by_xpath('//p[@class=\"averageCtc\"]')\n",
    "len(avg)"
   ]
  },
  {
   "cell_type": "code",
   "execution_count": 453,
   "id": "b7cbadab",
   "metadata": {},
   "outputs": [
    {
     "data": {
      "text/plain": [
       "['₹ 28.7L',\n",
       " '₹ 19.5L',\n",
       " '₹ 15.8L',\n",
       " '₹ 15.0L',\n",
       " '₹ 15.0L',\n",
       " '₹ 13.5L',\n",
       " '₹ 13.5L',\n",
       " '₹ 12.7L',\n",
       " '₹ 12.4L',\n",
       " '₹ 11.9L']"
      ]
     },
     "execution_count": 453,
     "metadata": {},
     "output_type": "execute_result"
    }
   ],
   "source": [
    "averagectc=[]\n",
    "for i in avg:\n",
    "    averagectc.append(i.text)\n",
    "len(averagectc)\n",
    "averagectc"
   ]
  },
  {
   "cell_type": "code",
   "execution_count": 454,
   "id": "9c1fb69e",
   "metadata": {},
   "outputs": [
    {
     "data": {
      "text/plain": [
       "20"
      ]
     },
     "execution_count": 454,
     "metadata": {},
     "output_type": "execute_result"
    }
   ],
   "source": [
    "minctc=driver.find_elements_by_xpath('//div[@class=\"value body-medium\"]')\n",
    "len(minctc)"
   ]
  },
  {
   "cell_type": "code",
   "execution_count": 459,
   "id": "790138de",
   "metadata": {},
   "outputs": [
    {
     "data": {
      "text/plain": [
       "['₹ 17.7L',\n",
       " '₹ 35.0L',\n",
       " '₹ 15.0L',\n",
       " '₹ 25.0L',\n",
       " '₹ 9.8L',\n",
       " '₹ 20.0L',\n",
       " '₹ 9.5L',\n",
       " '₹ 22.0L',\n",
       " '₹ 11.0L',\n",
       " '₹ 21.3L',\n",
       " '₹ 7.2L',\n",
       " '₹ 20.5L',\n",
       " '₹ 8.3L',\n",
       " '₹ 18.5L',\n",
       " '₹ 10.0L',\n",
       " '₹ 21.0L',\n",
       " '₹ 8.5L',\n",
       " '₹ 15.0L',\n",
       " '₹ 5.8L',\n",
       " '₹ 21.5L']"
      ]
     },
     "execution_count": 459,
     "metadata": {},
     "output_type": "execute_result"
    }
   ],
   "source": [
    "min_sal=[]\n",
    "for i in minctc:\n",
    "    min_sal.append(i.text)\n",
    "len(min_sal)\n",
    "min_sal"
   ]
  },
  {
   "cell_type": "code",
   "execution_count": 460,
   "id": "4d2547a4",
   "metadata": {},
   "outputs": [
    {
     "data": {
      "text/plain": [
       "['₹ 17.7L',\n",
       " '₹ 15.0L',\n",
       " '₹ 9.8L',\n",
       " '₹ 9.5L',\n",
       " '₹ 11.0L',\n",
       " '₹ 7.2L',\n",
       " '₹ 8.3L',\n",
       " '₹ 10.0L',\n",
       " '₹ 8.5L',\n",
       " '₹ 5.8L']"
      ]
     },
     "execution_count": 460,
     "metadata": {},
     "output_type": "execute_result"
    }
   ],
   "source": [
    "min_sal[::2]"
   ]
  },
  {
   "cell_type": "code",
   "execution_count": 462,
   "id": "c1c12b60",
   "metadata": {},
   "outputs": [
    {
     "data": {
      "text/plain": [
       "['₹ 17.7L',\n",
       " '₹ 35.0L',\n",
       " '₹ 15.0L',\n",
       " '₹ 25.0L',\n",
       " '₹ 9.8L',\n",
       " '₹ 20.0L',\n",
       " '₹ 9.5L',\n",
       " '₹ 22.0L',\n",
       " '₹ 11.0L',\n",
       " '₹ 21.3L',\n",
       " '₹ 7.2L',\n",
       " '₹ 20.5L',\n",
       " '₹ 8.3L',\n",
       " '₹ 18.5L',\n",
       " '₹ 10.0L',\n",
       " '₹ 21.0L',\n",
       " '₹ 8.5L',\n",
       " '₹ 15.0L',\n",
       " '₹ 5.8L',\n",
       " '₹ 21.5L']"
      ]
     },
     "execution_count": 462,
     "metadata": {},
     "output_type": "execute_result"
    }
   ],
   "source": [
    "max_sal=[]\n",
    "for i in minctc:\n",
    "    max_sal.append(i.text)\n",
    "len(max_sal)\n",
    "max_sal"
   ]
  },
  {
   "cell_type": "code",
   "execution_count": 463,
   "id": "7d965307",
   "metadata": {},
   "outputs": [
    {
     "data": {
      "text/plain": [
       "['₹ 35.0L',\n",
       " '₹ 25.0L',\n",
       " '₹ 20.0L',\n",
       " '₹ 22.0L',\n",
       " '₹ 21.3L',\n",
       " '₹ 20.5L',\n",
       " '₹ 18.5L',\n",
       " '₹ 21.0L',\n",
       " '₹ 15.0L',\n",
       " '₹ 21.5L']"
      ]
     },
     "execution_count": 463,
     "metadata": {},
     "output_type": "execute_result"
    }
   ],
   "source": [
    "max_sal[1:20:2]"
   ]
  },
  {
   "cell_type": "code",
   "execution_count": 464,
   "id": "96286ba7",
   "metadata": {},
   "outputs": [
    {
     "data": {
      "text/plain": [
       "(10, 10, 10, 20, 20)"
      ]
     },
     "execution_count": 464,
     "metadata": {},
     "output_type": "execute_result"
    }
   ],
   "source": [
    "len(company_name),len(experience),len(averagectc),len(min_sal),len(max_sal)"
   ]
  },
  {
   "cell_type": "markdown",
   "id": "a12c258a",
   "metadata": {},
   "source": [
    "#### new variable assignment is not known(How to reassign variable)...hence problem in generating data frame"
   ]
  },
  {
   "cell_type": "code",
   "execution_count": null,
   "id": "ffa8cf2f",
   "metadata": {},
   "outputs": [],
   "source": []
  }
 ],
 "metadata": {
  "kernelspec": {
   "display_name": "Python 3",
   "language": "python",
   "name": "python3"
  },
  "language_info": {
   "codemirror_mode": {
    "name": "ipython",
    "version": 3
   },
   "file_extension": ".py",
   "mimetype": "text/x-python",
   "name": "python",
   "nbconvert_exporter": "python",
   "pygments_lexer": "ipython3",
   "version": "3.8.8"
  }
 },
 "nbformat": 4,
 "nbformat_minor": 5
}
